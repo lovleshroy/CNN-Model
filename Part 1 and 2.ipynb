{
 "cells": [
  {
   "cell_type": "code",
   "execution_count": 1,
   "id": "d1d093b3",
   "metadata": {},
   "outputs": [],
   "source": [
    "import numpy as np\n",
    "import seaborn as sns\n",
    "import matplotlib.pyplot as plt\n",
    "import pandas as pd\n",
    "import matplotlib as mpl\n",
    "mpl.rc('axes', labelsize=14)\n",
    "mpl.rc('xtick', labelsize=12)\n",
    "mpl.rc('ytick', labelsize=12)"
   ]
  },
  {
   "cell_type": "code",
   "execution_count": null,
   "id": "051d293d",
   "metadata": {},
   "outputs": [],
   "source": []
  },
  {
   "cell_type": "code",
   "execution_count": null,
   "id": "a9875fad",
   "metadata": {},
   "outputs": [],
   "source": [
    "l = [f\"{x}\" for x in range(1,786)]\n",
    "df = pd.read_csv('all.csv',names=l)"
   ]
  },
  {
   "cell_type": "code",
   "execution_count": 3,
   "id": "85230e01",
   "metadata": {},
   "outputs": [
    {
     "data": {
      "text/html": [
       "<div>\n",
       "<style scoped>\n",
       "    .dataframe tbody tr th:only-of-type {\n",
       "        vertical-align: middle;\n",
       "    }\n",
       "\n",
       "    .dataframe tbody tr th {\n",
       "        vertical-align: top;\n",
       "    }\n",
       "\n",
       "    .dataframe thead th {\n",
       "        text-align: right;\n",
       "    }\n",
       "</style>\n",
       "<table border=\"1\" class=\"dataframe\">\n",
       "  <thead>\n",
       "    <tr style=\"text-align: right;\">\n",
       "      <th></th>\n",
       "      <th>1</th>\n",
       "      <th>2</th>\n",
       "      <th>3</th>\n",
       "      <th>4</th>\n",
       "      <th>5</th>\n",
       "      <th>6</th>\n",
       "      <th>7</th>\n",
       "      <th>8</th>\n",
       "      <th>9</th>\n",
       "      <th>10</th>\n",
       "      <th>...</th>\n",
       "      <th>776</th>\n",
       "      <th>777</th>\n",
       "      <th>778</th>\n",
       "      <th>779</th>\n",
       "      <th>780</th>\n",
       "      <th>781</th>\n",
       "      <th>782</th>\n",
       "      <th>783</th>\n",
       "      <th>784</th>\n",
       "      <th>785</th>\n",
       "    </tr>\n",
       "  </thead>\n",
       "  <tbody>\n",
       "    <tr>\n",
       "      <th>0</th>\n",
       "      <td>0</td>\n",
       "      <td>0</td>\n",
       "      <td>0</td>\n",
       "      <td>0</td>\n",
       "      <td>0</td>\n",
       "      <td>0</td>\n",
       "      <td>0</td>\n",
       "      <td>0</td>\n",
       "      <td>0</td>\n",
       "      <td>0</td>\n",
       "      <td>...</td>\n",
       "      <td>0</td>\n",
       "      <td>0</td>\n",
       "      <td>0</td>\n",
       "      <td>0</td>\n",
       "      <td>0</td>\n",
       "      <td>0</td>\n",
       "      <td>0</td>\n",
       "      <td>0</td>\n",
       "      <td>0</td>\n",
       "      <td>0</td>\n",
       "    </tr>\n",
       "    <tr>\n",
       "      <th>1</th>\n",
       "      <td>0</td>\n",
       "      <td>0</td>\n",
       "      <td>0</td>\n",
       "      <td>0</td>\n",
       "      <td>0</td>\n",
       "      <td>0</td>\n",
       "      <td>0</td>\n",
       "      <td>0</td>\n",
       "      <td>0</td>\n",
       "      <td>0</td>\n",
       "      <td>...</td>\n",
       "      <td>0</td>\n",
       "      <td>0</td>\n",
       "      <td>0</td>\n",
       "      <td>0</td>\n",
       "      <td>0</td>\n",
       "      <td>0</td>\n",
       "      <td>0</td>\n",
       "      <td>0</td>\n",
       "      <td>0</td>\n",
       "      <td>0</td>\n",
       "    </tr>\n",
       "    <tr>\n",
       "      <th>2</th>\n",
       "      <td>0</td>\n",
       "      <td>0</td>\n",
       "      <td>0</td>\n",
       "      <td>0</td>\n",
       "      <td>0</td>\n",
       "      <td>0</td>\n",
       "      <td>0</td>\n",
       "      <td>0</td>\n",
       "      <td>0</td>\n",
       "      <td>0</td>\n",
       "      <td>...</td>\n",
       "      <td>0</td>\n",
       "      <td>0</td>\n",
       "      <td>0</td>\n",
       "      <td>0</td>\n",
       "      <td>0</td>\n",
       "      <td>0</td>\n",
       "      <td>0</td>\n",
       "      <td>0</td>\n",
       "      <td>0</td>\n",
       "      <td>0</td>\n",
       "    </tr>\n",
       "    <tr>\n",
       "      <th>3</th>\n",
       "      <td>0</td>\n",
       "      <td>0</td>\n",
       "      <td>0</td>\n",
       "      <td>0</td>\n",
       "      <td>0</td>\n",
       "      <td>0</td>\n",
       "      <td>0</td>\n",
       "      <td>0</td>\n",
       "      <td>0</td>\n",
       "      <td>0</td>\n",
       "      <td>...</td>\n",
       "      <td>0</td>\n",
       "      <td>0</td>\n",
       "      <td>0</td>\n",
       "      <td>0</td>\n",
       "      <td>0</td>\n",
       "      <td>0</td>\n",
       "      <td>0</td>\n",
       "      <td>0</td>\n",
       "      <td>0</td>\n",
       "      <td>0</td>\n",
       "    </tr>\n",
       "    <tr>\n",
       "      <th>4</th>\n",
       "      <td>0</td>\n",
       "      <td>0</td>\n",
       "      <td>0</td>\n",
       "      <td>0</td>\n",
       "      <td>0</td>\n",
       "      <td>0</td>\n",
       "      <td>0</td>\n",
       "      <td>0</td>\n",
       "      <td>0</td>\n",
       "      <td>0</td>\n",
       "      <td>...</td>\n",
       "      <td>0</td>\n",
       "      <td>0</td>\n",
       "      <td>0</td>\n",
       "      <td>0</td>\n",
       "      <td>0</td>\n",
       "      <td>0</td>\n",
       "      <td>0</td>\n",
       "      <td>0</td>\n",
       "      <td>0</td>\n",
       "      <td>0</td>\n",
       "    </tr>\n",
       "  </tbody>\n",
       "</table>\n",
       "<p>5 rows × 785 columns</p>\n",
       "</div>"
      ],
      "text/plain": [
       "   1  2  3  4  5  6  7  8  9  10  ...  776  777  778  779  780  781  782  783  \\\n",
       "0  0  0  0  0  0  0  0  0  0   0  ...    0    0    0    0    0    0    0    0   \n",
       "1  0  0  0  0  0  0  0  0  0   0  ...    0    0    0    0    0    0    0    0   \n",
       "2  0  0  0  0  0  0  0  0  0   0  ...    0    0    0    0    0    0    0    0   \n",
       "3  0  0  0  0  0  0  0  0  0   0  ...    0    0    0    0    0    0    0    0   \n",
       "4  0  0  0  0  0  0  0  0  0   0  ...    0    0    0    0    0    0    0    0   \n",
       "\n",
       "   784  785  \n",
       "0    0    0  \n",
       "1    0    0  \n",
       "2    0    0  \n",
       "3    0    0  \n",
       "4    0    0  \n",
       "\n",
       "[5 rows x 785 columns]"
      ]
     },
     "execution_count": 3,
     "metadata": {},
     "output_type": "execute_result"
    }
   ],
   "source": [
    "df.head(5)"
   ]
  },
  {
   "cell_type": "code",
   "execution_count": 4,
   "id": "e774a9f9",
   "metadata": {},
   "outputs": [
    {
     "data": {
      "text/plain": [
       "array([0, 1, 2, 3, 4, 5, 6, 7, 8, 9], dtype=int64)"
      ]
     },
     "execution_count": 4,
     "metadata": {},
     "output_type": "execute_result"
    }
   ],
   "source": [
    "df['785'].unique()"
   ]
  },
  {
   "cell_type": "code",
   "execution_count": 5,
   "id": "d94867aa",
   "metadata": {},
   "outputs": [
    {
     "data": {
      "text/plain": [
       "(3000, 785)"
      ]
     },
     "execution_count": 5,
     "metadata": {},
     "output_type": "execute_result"
    }
   ],
   "source": [
    "df.shape"
   ]
  },
  {
   "cell_type": "code",
   "execution_count": 6,
   "id": "708bae56",
   "metadata": {},
   "outputs": [],
   "source": [
    "X = df.drop('785',axis=1)"
   ]
  },
  {
   "cell_type": "code",
   "execution_count": 7,
   "id": "9a7fd0a2",
   "metadata": {},
   "outputs": [
    {
     "data": {
      "text/html": [
       "<div>\n",
       "<style scoped>\n",
       "    .dataframe tbody tr th:only-of-type {\n",
       "        vertical-align: middle;\n",
       "    }\n",
       "\n",
       "    .dataframe tbody tr th {\n",
       "        vertical-align: top;\n",
       "    }\n",
       "\n",
       "    .dataframe thead th {\n",
       "        text-align: right;\n",
       "    }\n",
       "</style>\n",
       "<table border=\"1\" class=\"dataframe\">\n",
       "  <thead>\n",
       "    <tr style=\"text-align: right;\">\n",
       "      <th></th>\n",
       "      <th>1</th>\n",
       "      <th>2</th>\n",
       "      <th>3</th>\n",
       "      <th>4</th>\n",
       "      <th>5</th>\n",
       "      <th>6</th>\n",
       "      <th>7</th>\n",
       "      <th>8</th>\n",
       "      <th>9</th>\n",
       "      <th>10</th>\n",
       "      <th>...</th>\n",
       "      <th>775</th>\n",
       "      <th>776</th>\n",
       "      <th>777</th>\n",
       "      <th>778</th>\n",
       "      <th>779</th>\n",
       "      <th>780</th>\n",
       "      <th>781</th>\n",
       "      <th>782</th>\n",
       "      <th>783</th>\n",
       "      <th>784</th>\n",
       "    </tr>\n",
       "  </thead>\n",
       "  <tbody>\n",
       "    <tr>\n",
       "      <th>1</th>\n",
       "      <td>0</td>\n",
       "      <td>0</td>\n",
       "      <td>0</td>\n",
       "      <td>0</td>\n",
       "      <td>0</td>\n",
       "      <td>0</td>\n",
       "      <td>0</td>\n",
       "      <td>0</td>\n",
       "      <td>0</td>\n",
       "      <td>0</td>\n",
       "      <td>...</td>\n",
       "      <td>0</td>\n",
       "      <td>0</td>\n",
       "      <td>0</td>\n",
       "      <td>0</td>\n",
       "      <td>0</td>\n",
       "      <td>0</td>\n",
       "      <td>0</td>\n",
       "      <td>0</td>\n",
       "      <td>0</td>\n",
       "      <td>0</td>\n",
       "    </tr>\n",
       "  </tbody>\n",
       "</table>\n",
       "<p>1 rows × 784 columns</p>\n",
       "</div>"
      ],
      "text/plain": [
       "   1  2  3  4  5  6  7  8  9  10  ...  775  776  777  778  779  780  781  782  \\\n",
       "1  0  0  0  0  0  0  0  0  0   0  ...    0    0    0    0    0    0    0    0   \n",
       "\n",
       "   783  784  \n",
       "1    0    0  \n",
       "\n",
       "[1 rows x 784 columns]"
      ]
     },
     "execution_count": 7,
     "metadata": {},
     "output_type": "execute_result"
    }
   ],
   "source": [
    "X[1:2]"
   ]
  },
  {
   "cell_type": "markdown",
   "id": "6e63281d",
   "metadata": {},
   "source": [
    "# Printing digits from data set "
   ]
  },
  {
   "cell_type": "code",
   "execution_count": 8,
   "id": "a89e19cf",
   "metadata": {},
   "outputs": [
    {
     "data": {
      "image/png": "[encoded data removed]",
      "text/plain": [
       "<Figure size 432x288 with 1 Axes>"
      ]
     },
     "metadata": {
      "needs_background": "light"
     },
     "output_type": "display_data"
    }
   ],
   "source": [
    "some_digit = np.array(X[2003:2004])\n",
    "some_digit_image = some_digit.reshape(28, 28)\n",
    "plt.imshow(some_digit_image, cmap = mpl.cm.binary,\n",
    "           interpolation=\"nearest\")\n",
    "plt.axis(\"off\")\n",
    "plt.savefig('6.png', bbox_inches='tight')\n",
    "plt.show()\n"
   ]
  },
  {
   "cell_type": "code",
   "execution_count": 9,
   "id": "4b855db9",
   "metadata": {},
   "outputs": [
    {
     "data": {
      "image/png": "[encoded data removed]",
      "text/plain": [
       "<Figure size 432x288 with 1 Axes>"
      ]
     },
     "metadata": {
      "needs_background": "light"
     },
     "output_type": "display_data"
    }
   ],
   "source": [
    "import matplotlib.image as mpimg\n",
    "img = mpimg.imread('6.png')\n",
    "imgplot = plt.imshow(img)\n",
    "plt.show()"
   ]
  },
  {
   "cell_type": "code",
   "execution_count": 2,
   "id": "8c5eb2b2",
   "metadata": {},
   "outputs": [],
   "source": [
    "import tensorflow as tf\n",
    "from tensorflow import keras\n",
    "from sklearn.model_selection import train_test_split"
   ]
  },
  {
   "cell_type": "code",
   "execution_count": 11,
   "id": "8d612884",
   "metadata": {},
   "outputs": [],
   "source": [
    "X = df.drop('785',axis=1)\n",
    "y = df['785']"
   ]
  },
  {
   "cell_type": "code",
   "execution_count": 12,
   "id": "7ba22d8a",
   "metadata": {},
   "outputs": [],
   "source": [
    "X_train, X_test, y_train, y_test = train_test_split(X, y, test_size=0.10)"
   ]
  },
  {
   "cell_type": "code",
   "execution_count": 13,
   "id": "75ba233f",
   "metadata": {},
   "outputs": [
    {
     "data": {
      "text/plain": [
       "(2700, 784)"
      ]
     },
     "execution_count": 13,
     "metadata": {},
     "output_type": "execute_result"
    }
   ],
   "source": [
    "X_train.shape"
   ]
  },
  {
   "cell_type": "code",
   "execution_count": 14,
   "id": "29e0a2e8",
   "metadata": {},
   "outputs": [
    {
     "data": {
      "text/plain": [
       "(2700,)"
      ]
     },
     "execution_count": 14,
     "metadata": {},
     "output_type": "execute_result"
    }
   ],
   "source": [
    "y_train.shape"
   ]
  },
  {
   "cell_type": "code",
   "execution_count": 15,
   "id": "fe5bc8f8",
   "metadata": {},
   "outputs": [],
   "source": [
    "model = keras.models.Sequential([\n",
    "keras.layers.Flatten(input_shape=[784]),\n",
    "keras.layers.Dropout(rate=0.04),\n",
    "keras.layers.Dense(900, activation=\"relu\"),\n",
    "keras.layers.Dropout(rate=0.24),\n",
    "keras.layers.Dense(500, activation=\"relu\"),\n",
    "keras.layers.Dropout(rate=0.24),\n",
    "keras.layers.Dense(400, activation=\"relu\"),\n",
    "keras.layers.Dropout(rate=0.12),\n",
    "keras.layers.Dense(100, activation=\"relu\"),\n",
    "keras.layers.Dropout(rate=0.09),\n",
    "keras.layers.Dense(10, activation=\"softmax\")\n",
    "])\n"
   ]
  },
  {
   "cell_type": "code",
   "execution_count": null,
   "id": "509e6e86",
   "metadata": {},
   "outputs": [],
   "source": []
  },
  {
   "cell_type": "code",
   "execution_count": 16,
   "id": "6f354513",
   "metadata": {},
   "outputs": [
    {
     "name": "stdout",
     "output_type": "stream",
     "text": [
      "Model: \"sequential\"\n",
      "_________________________________________________________________\n",
      " Layer (type)                Output Shape              Param #   \n",
      "=================================================================\n",
      " flatten (Flatten)           (None, 784)               0         \n",
      "                                                                 \n",
      " dropout (Dropout)           (None, 784)               0         \n",
      "                                                                 \n",
      " dense (Dense)               (None, 900)               706500    \n",
      "                                                                 \n",
      " dropout_1 (Dropout)         (None, 900)               0         \n",
      "                                                                 \n",
      " dense_1 (Dense)             (None, 500)               450500    \n",
      "                                                                 \n",
      " dropout_2 (Dropout)         (None, 500)               0         \n",
      "                                                                 \n",
      " dense_2 (Dense)             (None, 400)               200400    \n",
      "                                                                 \n",
      " dropout_3 (Dropout)         (None, 400)               0         \n",
      "                                                                 \n",
      " dense_3 (Dense)             (None, 100)               40100     \n",
      "                                                                 \n",
      " dropout_4 (Dropout)         (None, 100)               0         \n",
      "                                                                 \n",
      " dense_4 (Dense)             (None, 10)                1010      \n",
      "                                                                 \n",
      "=================================================================\n",
      "Total params: 1,398,510\n",
      "Trainable params: 1,398,510\n",
      "Non-trainable params: 0\n",
      "_________________________________________________________________\n"
     ]
    }
   ],
   "source": [
    "model.summary()"
   ]
  },
  {
   "cell_type": "code",
   "execution_count": 17,
   "id": "5de4457b",
   "metadata": {},
   "outputs": [],
   "source": [
    "#Multiclass classification || labels are integer values || using sparse\n",
    "#cross entroy loss function\n",
    "epochs=10\n",
    "model.compile(loss='sparse_categorical_crossentropy',\n",
    "              optimizer=tf.keras.optimizers.Adam(learning_rate=0.0002),\n",
    "              metrics='accuracy')\n",
    "#0.00157"
   ]
  },
  {
   "cell_type": "markdown",
   "id": "aea53d73",
   "metadata": {},
   "source": [
    "# Training and validation data split"
   ]
  },
  {
   "cell_type": "code",
   "execution_count": 18,
   "id": "95e3d432",
   "metadata": {},
   "outputs": [],
   "source": [
    "X_trainn, X_val, y_trainn, y_val = train_test_split(X_train, y_train,\n",
    "                                           test_size=0.1)"
   ]
  },
  {
   "cell_type": "code",
   "execution_count": 19,
   "id": "181da96c",
   "metadata": {},
   "outputs": [
    {
     "data": {
      "text/plain": [
       "(2430, 784)"
      ]
     },
     "execution_count": 19,
     "metadata": {},
     "output_type": "execute_result"
    }
   ],
   "source": [
    "X_trainn.shape"
   ]
  },
  {
   "cell_type": "code",
   "execution_count": 20,
   "id": "4c64099f",
   "metadata": {},
   "outputs": [
    {
     "data": {
      "text/plain": [
       "(270, 784)"
      ]
     },
     "execution_count": 20,
     "metadata": {},
     "output_type": "execute_result"
    }
   ],
   "source": [
    "X_val.shape"
   ]
  },
  {
   "cell_type": "code",
   "execution_count": 21,
   "id": "15ce3542",
   "metadata": {},
   "outputs": [
    {
     "name": "stdout",
     "output_type": "stream",
     "text": [
      "Epoch 1/58\n",
      "81/81 [==============================] - 2s 14ms/step - loss: 19.3337 - accuracy: 0.3366 - val_loss: 2.1418 - val_accuracy: 0.6407\n",
      "Epoch 2/58\n",
      "81/81 [==============================] - 1s 13ms/step - loss: 5.3172 - accuracy: 0.4992 - val_loss: 1.5281 - val_accuracy: 0.7333\n",
      "Epoch 3/58\n",
      "81/81 [==============================] - 1s 16ms/step - loss: 3.4071 - accuracy: 0.5868 - val_loss: 0.9538 - val_accuracy: 0.7593\n",
      "Epoch 4/58\n",
      "81/81 [==============================] - 1s 13ms/step - loss: 2.4498 - accuracy: 0.6095 - val_loss: 0.8346 - val_accuracy: 0.7815\n",
      "Epoch 5/58\n",
      "81/81 [==============================] - 1s 12ms/step - loss: 1.8479 - accuracy: 0.6436 - val_loss: 0.7792 - val_accuracy: 0.7630\n",
      "Epoch 6/58\n",
      "81/81 [==============================] - 1s 12ms/step - loss: 1.5377 - accuracy: 0.6444 - val_loss: 0.6763 - val_accuracy: 0.8037\n",
      "Epoch 7/58\n",
      "81/81 [==============================] - 1s 12ms/step - loss: 1.2474 - accuracy: 0.6852 - val_loss: 0.6955 - val_accuracy: 0.7852\n",
      "Epoch 8/58\n",
      "81/81 [==============================] - 1s 14ms/step - loss: 1.1307 - accuracy: 0.7053 - val_loss: 0.6129 - val_accuracy: 0.8259\n",
      "Epoch 9/58\n",
      "81/81 [==============================] - 1s 13ms/step - loss: 1.1131 - accuracy: 0.7156 - val_loss: 0.5922 - val_accuracy: 0.8333\n",
      "Epoch 10/58\n",
      "81/81 [==============================] - 1s 12ms/step - loss: 0.9485 - accuracy: 0.7613 - val_loss: 0.5411 - val_accuracy: 0.8407\n",
      "Epoch 11/58\n",
      "81/81 [==============================] - 1s 12ms/step - loss: 0.7568 - accuracy: 0.7770 - val_loss: 0.4823 - val_accuracy: 0.8741\n",
      "Epoch 12/58\n",
      "81/81 [==============================] - 1s 13ms/step - loss: 0.7578 - accuracy: 0.8004 - val_loss: 0.4539 - val_accuracy: 0.8704\n",
      "Epoch 13/58\n",
      "81/81 [==============================] - 1s 12ms/step - loss: 0.6970 - accuracy: 0.8132 - val_loss: 0.4647 - val_accuracy: 0.8593\n",
      "Epoch 14/58\n",
      "81/81 [==============================] - 1s 12ms/step - loss: 0.6530 - accuracy: 0.8173 - val_loss: 0.4018 - val_accuracy: 0.8852\n",
      "Epoch 15/58\n",
      "81/81 [==============================] - 1s 13ms/step - loss: 0.6091 - accuracy: 0.8218 - val_loss: 0.4083 - val_accuracy: 0.8889\n",
      "Epoch 16/58\n",
      "81/81 [==============================] - 1s 13ms/step - loss: 0.5498 - accuracy: 0.8374 - val_loss: 0.3323 - val_accuracy: 0.9074\n",
      "Epoch 17/58\n",
      "81/81 [==============================] - 1s 13ms/step - loss: 0.5221 - accuracy: 0.8428 - val_loss: 0.3157 - val_accuracy: 0.9185\n",
      "Epoch 18/58\n",
      "81/81 [==============================] - 1s 12ms/step - loss: 0.4927 - accuracy: 0.8568 - val_loss: 0.3162 - val_accuracy: 0.9148\n",
      "Epoch 19/58\n",
      "81/81 [==============================] - 1s 14ms/step - loss: 0.4893 - accuracy: 0.8551 - val_loss: 0.3159 - val_accuracy: 0.9111\n",
      "Epoch 20/58\n",
      "81/81 [==============================] - 1s 14ms/step - loss: 0.4334 - accuracy: 0.8621 - val_loss: 0.3684 - val_accuracy: 0.8963\n",
      "Epoch 21/58\n",
      "81/81 [==============================] - 1s 14ms/step - loss: 0.4236 - accuracy: 0.8802 - val_loss: 0.2780 - val_accuracy: 0.9259\n",
      "Epoch 22/58\n",
      "81/81 [==============================] - 1s 14ms/step - loss: 0.4088 - accuracy: 0.8860 - val_loss: 0.3503 - val_accuracy: 0.9037\n",
      "Epoch 23/58\n",
      "81/81 [==============================] - 1s 14ms/step - loss: 0.3665 - accuracy: 0.8827 - val_loss: 0.2902 - val_accuracy: 0.9111\n",
      "Epoch 24/58\n",
      "81/81 [==============================] - 1s 14ms/step - loss: 0.3409 - accuracy: 0.8926 - val_loss: 0.2847 - val_accuracy: 0.9296\n",
      "Epoch 25/58\n",
      "81/81 [==============================] - 1s 13ms/step - loss: 0.3465 - accuracy: 0.9037 - val_loss: 0.2529 - val_accuracy: 0.9222\n",
      "Epoch 26/58\n",
      "81/81 [==============================] - 1s 13ms/step - loss: 0.3303 - accuracy: 0.9041 - val_loss: 0.2815 - val_accuracy: 0.9333\n",
      "Epoch 27/58\n",
      "81/81 [==============================] - 1s 13ms/step - loss: 0.2746 - accuracy: 0.9144 - val_loss: 0.3374 - val_accuracy: 0.9148\n",
      "Epoch 28/58\n",
      "81/81 [==============================] - 1s 13ms/step - loss: 0.3012 - accuracy: 0.9111 - val_loss: 0.3050 - val_accuracy: 0.9333\n",
      "Epoch 29/58\n",
      "81/81 [==============================] - 1s 13ms/step - loss: 0.2494 - accuracy: 0.9206 - val_loss: 0.2648 - val_accuracy: 0.9370\n",
      "Epoch 30/58\n",
      "81/81 [==============================] - 1s 13ms/step - loss: 0.2361 - accuracy: 0.9272 - val_loss: 0.2192 - val_accuracy: 0.9407\n",
      "Epoch 31/58\n",
      "81/81 [==============================] - 1s 14ms/step - loss: 0.2062 - accuracy: 0.9313 - val_loss: 0.2231 - val_accuracy: 0.9296\n",
      "Epoch 32/58\n",
      "81/81 [==============================] - 1s 13ms/step - loss: 0.2278 - accuracy: 0.9272 - val_loss: 0.2902 - val_accuracy: 0.9333\n",
      "Epoch 33/58\n",
      "81/81 [==============================] - 1s 14ms/step - loss: 0.2490 - accuracy: 0.9288 - val_loss: 0.2293 - val_accuracy: 0.9333\n",
      "Epoch 34/58\n",
      "81/81 [==============================] - 1s 14ms/step - loss: 0.2010 - accuracy: 0.9370 - val_loss: 0.2291 - val_accuracy: 0.9222\n",
      "Epoch 35/58\n",
      "81/81 [==============================] - 1s 13ms/step - loss: 0.1966 - accuracy: 0.9457 - val_loss: 0.2522 - val_accuracy: 0.9259\n",
      "Epoch 36/58\n",
      "81/81 [==============================] - 1s 12ms/step - loss: 0.1734 - accuracy: 0.9453 - val_loss: 0.3065 - val_accuracy: 0.9185\n",
      "Epoch 37/58\n",
      "81/81 [==============================] - 1s 16ms/step - loss: 0.1732 - accuracy: 0.9498 - val_loss: 0.2368 - val_accuracy: 0.9370\n",
      "Epoch 38/58\n",
      "81/81 [==============================] - 1s 15ms/step - loss: 0.2070 - accuracy: 0.9436 - val_loss: 0.3177 - val_accuracy: 0.9222\n",
      "Epoch 39/58\n",
      "81/81 [==============================] - 1s 14ms/step - loss: 0.1748 - accuracy: 0.9506 - val_loss: 0.3184 - val_accuracy: 0.9333\n",
      "Epoch 40/58\n",
      "81/81 [==============================] - 1s 14ms/step - loss: 0.1674 - accuracy: 0.9506 - val_loss: 0.3873 - val_accuracy: 0.9222\n",
      "Epoch 41/58\n",
      "81/81 [==============================] - 1s 13ms/step - loss: 0.1729 - accuracy: 0.9469 - val_loss: 0.2786 - val_accuracy: 0.9370\n",
      "Epoch 42/58\n",
      "81/81 [==============================] - 1s 13ms/step - loss: 0.1501 - accuracy: 0.9617 - val_loss: 0.4051 - val_accuracy: 0.9148\n",
      "Epoch 43/58\n",
      "81/81 [==============================] - 1s 13ms/step - loss: 0.1305 - accuracy: 0.9588 - val_loss: 0.3972 - val_accuracy: 0.9333\n",
      "Epoch 44/58\n",
      "81/81 [==============================] - 1s 13ms/step - loss: 0.1362 - accuracy: 0.9621 - val_loss: 0.2867 - val_accuracy: 0.9370\n",
      "Epoch 45/58\n",
      "81/81 [==============================] - 1s 14ms/step - loss: 0.1201 - accuracy: 0.9613 - val_loss: 0.2964 - val_accuracy: 0.9259\n",
      "Epoch 46/58\n",
      "81/81 [==============================] - 1s 14ms/step - loss: 0.1145 - accuracy: 0.9658 - val_loss: 0.5006 - val_accuracy: 0.9222\n",
      "Epoch 47/58\n",
      "81/81 [==============================] - 1s 13ms/step - loss: 0.1327 - accuracy: 0.9658 - val_loss: 0.4670 - val_accuracy: 0.9222\n",
      "Epoch 48/58\n",
      "81/81 [==============================] - 1s 13ms/step - loss: 0.1040 - accuracy: 0.9700 - val_loss: 0.3092 - val_accuracy: 0.9407\n",
      "Epoch 49/58\n",
      "81/81 [==============================] - 1s 13ms/step - loss: 0.0988 - accuracy: 0.9700 - val_loss: 0.3657 - val_accuracy: 0.9222\n",
      "Epoch 50/58\n",
      "81/81 [==============================] - 1s 13ms/step - loss: 0.1075 - accuracy: 0.9667 - val_loss: 0.3017 - val_accuracy: 0.9185\n",
      "Epoch 51/58\n",
      "81/81 [==============================] - 1s 13ms/step - loss: 0.1034 - accuracy: 0.9716 - val_loss: 0.4272 - val_accuracy: 0.9296\n",
      "Epoch 52/58\n",
      "81/81 [==============================] - 1s 13ms/step - loss: 0.0877 - accuracy: 0.9745 - val_loss: 0.2786 - val_accuracy: 0.9370\n",
      "Epoch 53/58\n",
      "81/81 [==============================] - 1s 13ms/step - loss: 0.0837 - accuracy: 0.9770 - val_loss: 0.2501 - val_accuracy: 0.9444\n",
      "Epoch 54/58\n",
      "81/81 [==============================] - 1s 13ms/step - loss: 0.1244 - accuracy: 0.9683 - val_loss: 0.3617 - val_accuracy: 0.9185\n",
      "Epoch 55/58\n",
      "81/81 [==============================] - 1s 13ms/step - loss: 0.0921 - accuracy: 0.9724 - val_loss: 0.2967 - val_accuracy: 0.9259\n",
      "Epoch 56/58\n",
      "81/81 [==============================] - 1s 14ms/step - loss: 0.0761 - accuracy: 0.9761 - val_loss: 0.3597 - val_accuracy: 0.9185\n",
      "Epoch 57/58\n",
      "81/81 [==============================] - 1s 13ms/step - loss: 0.0956 - accuracy: 0.9757 - val_loss: 0.3544 - val_accuracy: 0.9185\n",
      "Epoch 58/58\n",
      "81/81 [==============================] - 1s 13ms/step - loss: 0.0874 - accuracy: 0.9737 - val_loss: 0.3638 - val_accuracy: 0.9333\n"
     ]
    }
   ],
   "source": [
    "history = model.fit(X_trainn, y_trainn, epochs=58,\n",
    "                    validation_data=(X_val, y_val),batch_size=30)\n"
   ]
  },
  {
   "cell_type": "code",
   "execution_count": 22,
   "id": "45b41320",
   "metadata": {},
   "outputs": [
    {
     "data": {
      "image/png": "[encoded data removed]",
      "text/plain": [
       "<Figure size 576x360 with 1 Axes>"
      ]
     },
     "metadata": {
      "needs_background": "light"
     },
     "output_type": "display_data"
    }
   ],
   "source": [
    "pd.DataFrame(history.history).plot(figsize=(8, 5))\n",
    "plt.grid(True)\n",
    "plt.gca().set_ylim(0,2) # set the vertical range to [0-1]\n",
    "plt.show()"
   ]
  },
  {
   "cell_type": "code",
   "execution_count": 23,
   "id": "3a512af3",
   "metadata": {},
   "outputs": [
    {
     "name": "stdout",
     "output_type": "stream",
     "text": [
      "10/10 [==============================] - 0s 5ms/step - loss: 0.5042 - accuracy: 0.9333\n"
     ]
    },
    {
     "data": {
      "text/plain": [
       "[0.5041508674621582, 0.9333333373069763]"
      ]
     },
     "execution_count": 23,
     "metadata": {},
     "output_type": "execute_result"
    }
   ],
   "source": [
    "model.evaluate(X_test, y_test)"
   ]
  },
  {
   "cell_type": "code",
   "execution_count": 24,
   "id": "ae4d1f80",
   "metadata": {},
   "outputs": [],
   "source": [
    "#model.save(filepath=\"model2/\")"
   ]
  },
  {
   "cell_type": "code",
   "execution_count": 25,
   "id": "c61f9b9d",
   "metadata": {},
   "outputs": [
    {
     "name": "stdout",
     "output_type": "stream",
     "text": [
      "1/1 [==============================] - 0s 87ms/step\n"
     ]
    }
   ],
   "source": [
    "y_hat=model.predict(x=X_test[2:3])"
   ]
  },
  {
   "cell_type": "code",
   "execution_count": null,
   "id": "4735fad4",
   "metadata": {},
   "outputs": [],
   "source": []
  },
  {
   "cell_type": "code",
   "execution_count": 26,
   "id": "1e3d021a",
   "metadata": {},
   "outputs": [
    {
     "data": {
      "text/plain": [
       "7"
      ]
     },
     "execution_count": 26,
     "metadata": {},
     "output_type": "execute_result"
    }
   ],
   "source": [
    "list(y_hat[0]).index(y_hat[0][y_hat[0]==max(y_hat[0])][0])"
   ]
  },
  {
   "cell_type": "code",
   "execution_count": 27,
   "id": "6cd1836a",
   "metadata": {},
   "outputs": [
    {
     "data": {
      "text/plain": [
       "2142    7\n",
       "Name: 785, dtype: int64"
      ]
     },
     "execution_count": 27,
     "metadata": {},
     "output_type": "execute_result"
    }
   ],
   "source": [
    "y_test[2:3]"
   ]
  },
  {
   "cell_type": "markdown",
   "id": "41012a07",
   "metadata": {},
   "source": [
    "# Misclassified observations"
   ]
  },
  {
   "cell_type": "code",
   "execution_count": 28,
   "id": "f2687e0f",
   "metadata": {},
   "outputs": [
    {
     "name": "stdout",
     "output_type": "stream",
     "text": [
      "1/1 [==============================] - 0s 20ms/step\n",
      "1/1 [==============================] - 0s 12ms/step\n",
      "1/1 [==============================] - 0s 19ms/step\n",
      "1/1 [==============================] - 0s 19ms/step\n",
      "1/1 [==============================] - 0s 5ms/step\n",
      "1/1 [==============================] - 0s 18ms/step\n",
      "1/1 [==============================] - 0s 19ms/step\n",
      "1/1 [==============================] - 0s 9ms/step\n",
      "1/1 [==============================] - 0s 19ms/step\n",
      "1/1 [==============================] - 0s 19ms/step\n",
      "1/1 [==============================] - 0s 18ms/step\n",
      "1/1 [==============================] - 0s 7ms/step\n",
      "1/1 [==============================] - 0s 19ms/step\n",
      "1/1 [==============================] - 0s 20ms/step\n",
      "1/1 [==============================] - 0s 10ms/step\n",
      "1/1 [==============================] - 0s 20ms/step\n",
      "1/1 [==============================] - 0s 22ms/step\n",
      "1/1 [==============================] - 0s 18ms/step\n",
      "1/1 [==============================] - 0s 19ms/step\n",
      "1/1 [==============================] - 0s 16ms/step\n",
      "1/1 [==============================] - 0s 20ms/step\n",
      "1/1 [==============================] - 0s 16ms/step\n",
      "1/1 [==============================] - 0s 19ms/step\n",
      "1/1 [==============================] - 0s 21ms/step\n",
      "1/1 [==============================] - 0s 18ms/step\n",
      "1/1 [==============================] - 0s 19ms/step\n",
      "1/1 [==============================] - 0s 18ms/step\n",
      "1/1 [==============================] - 0s 10ms/step\n",
      "1/1 [==============================] - 0s 19ms/step\n",
      "1/1 [==============================] - 0s 19ms/step\n",
      "1/1 [==============================] - 0s 15ms/step\n",
      "1/1 [==============================] - 0s 31ms/step\n",
      "1/1 [==============================] - 0s 9ms/step\n",
      "1/1 [==============================] - 0s 20ms/step\n",
      "1/1 [==============================] - 0s 20ms/step\n",
      "1/1 [==============================] - 0s 19ms/step\n",
      "1/1 [==============================] - 0s 19ms/step\n",
      "1/1 [==============================] - 0s 18ms/step\n",
      "1/1 [==============================] - 0s 19ms/step\n",
      "1/1 [==============================] - 0s 20ms/step\n",
      "1/1 [==============================] - 0s 18ms/step\n",
      "1/1 [==============================] - 0s 4ms/step\n",
      "1/1 [==============================] - 0s 18ms/step\n",
      "1/1 [==============================] - 0s 11ms/step\n",
      "1/1 [==============================] - 0s 19ms/step\n",
      "1/1 [==============================] - 0s 13ms/step\n",
      "1/1 [==============================] - 0s 18ms/step\n",
      "1/1 [==============================] - 0s 18ms/step\n",
      "1/1 [==============================] - 0s 18ms/step\n",
      "1/1 [==============================] - 0s 4ms/step\n",
      "1/1 [==============================] - 0s 18ms/step\n",
      "1/1 [==============================] - 0s 19ms/step\n",
      "1/1 [==============================] - 0s 18ms/step\n",
      "1/1 [==============================] - 0s 6ms/step\n",
      "1/1 [==============================] - 0s 6ms/step\n",
      "1/1 [==============================] - 0s 7ms/step\n",
      "1/1 [==============================] - 0s 19ms/step\n",
      "1/1 [==============================] - 0s 12ms/step\n",
      "1/1 [==============================] - 0s 18ms/step\n",
      "1/1 [==============================] - 0s 18ms/step\n",
      "1/1 [==============================] - 0s 19ms/step\n",
      "1/1 [==============================] - 0s 16ms/step\n",
      "1/1 [==============================] - 0s 18ms/step\n",
      "1/1 [==============================] - 0s 19ms/step\n",
      "1/1 [==============================] - 0s 5ms/step\n",
      "1/1 [==============================] - 0s 17ms/step\n",
      "1/1 [==============================] - 0s 19ms/step\n",
      "1/1 [==============================] - 0s 18ms/step\n",
      "1/1 [==============================] - 0s 18ms/step\n",
      "1/1 [==============================] - 0s 18ms/step\n",
      "1/1 [==============================] - 0s 18ms/step\n",
      "1/1 [==============================] - 0s 19ms/step\n",
      "1/1 [==============================] - 0s 19ms/step\n",
      "1/1 [==============================] - 0s 19ms/step\n",
      "1/1 [==============================] - 0s 20ms/step\n",
      "1/1 [==============================] - 0s 19ms/step\n",
      "1/1 [==============================] - 0s 11ms/step\n",
      "1/1 [==============================] - 0s 8ms/step\n",
      "1/1 [==============================] - 0s 19ms/step\n",
      "1/1 [==============================] - 0s 18ms/step\n",
      "1/1 [==============================] - 0s 19ms/step\n",
      "1/1 [==============================] - 0s 11ms/step\n",
      "1/1 [==============================] - 0s 20ms/step\n",
      "1/1 [==============================] - 0s 19ms/step\n",
      "1/1 [==============================] - 0s 18ms/step\n",
      "1/1 [==============================] - 0s 19ms/step\n",
      "1/1 [==============================] - 0s 18ms/step\n",
      "1/1 [==============================] - 0s 20ms/step\n",
      "1/1 [==============================] - 0s 19ms/step\n",
      "1/1 [==============================] - 0s 9ms/step\n",
      "1/1 [==============================] - 0s 19ms/step\n",
      "1/1 [==============================] - 0s 10ms/step\n",
      "1/1 [==============================] - 0s 19ms/step\n",
      "1/1 [==============================] - 0s 5ms/step\n",
      "1/1 [==============================] - 0s 26ms/step\n",
      "1/1 [==============================] - 0s 21ms/step\n",
      "1/1 [==============================] - 0s 21ms/step\n",
      "1/1 [==============================] - 0s 23ms/step\n",
      "1/1 [==============================] - 0s 26ms/step\n",
      "1/1 [==============================] - 0s 22ms/step\n",
      "1/1 [==============================] - 0s 19ms/step\n",
      "1/1 [==============================] - 0s 18ms/step\n",
      "1/1 [==============================] - 0s 19ms/step\n",
      "1/1 [==============================] - 0s 18ms/step\n",
      "1/1 [==============================] - 0s 18ms/step\n",
      "1/1 [==============================] - 0s 19ms/step\n",
      "1/1 [==============================] - 0s 19ms/step\n",
      "1/1 [==============================] - 0s 19ms/step\n",
      "1/1 [==============================] - 0s 18ms/step\n",
      "1/1 [==============================] - 0s 19ms/step\n",
      "1/1 [==============================] - 0s 19ms/step\n",
      "1/1 [==============================] - 0s 19ms/step\n",
      "1/1 [==============================] - 0s 17ms/step\n",
      "1/1 [==============================] - 0s 19ms/step\n",
      "1/1 [==============================] - 0s 18ms/step\n",
      "1/1 [==============================] - 0s 19ms/step\n",
      "1/1 [==============================] - 0s 18ms/step\n",
      "1/1 [==============================] - 0s 17ms/step\n",
      "1/1 [==============================] - 0s 18ms/step\n",
      "1/1 [==============================] - 0s 18ms/step\n",
      "1/1 [==============================] - 0s 18ms/step\n",
      "1/1 [==============================] - 0s 18ms/step\n",
      "1/1 [==============================] - 0s 23ms/step\n",
      "1/1 [==============================] - 0s 20ms/step\n",
      "1/1 [==============================] - 0s 22ms/step\n",
      "1/1 [==============================] - 0s 21ms/step\n",
      "1/1 [==============================] - 0s 20ms/step\n",
      "1/1 [==============================] - 0s 22ms/step\n",
      "1/1 [==============================] - 0s 19ms/step\n",
      "1/1 [==============================] - 0s 19ms/step\n",
      "1/1 [==============================] - 0s 19ms/step\n",
      "1/1 [==============================] - 0s 18ms/step\n",
      "1/1 [==============================] - 0s 18ms/step\n",
      "1/1 [==============================] - 0s 5ms/step\n",
      "1/1 [==============================] - 0s 18ms/step\n",
      "1/1 [==============================] - 0s 18ms/step\n",
      "1/1 [==============================] - 0s 19ms/step\n",
      "1/1 [==============================] - 0s 23ms/step\n",
      "1/1 [==============================] - 0s 21ms/step\n",
      "1/1 [==============================] - 0s 23ms/step\n",
      "1/1 [==============================] - 0s 21ms/step\n",
      "1/1 [==============================] - 0s 18ms/step\n",
      "1/1 [==============================] - 0s 18ms/step\n",
      "1/1 [==============================] - 0s 20ms/step\n",
      "1/1 [==============================] - 0s 21ms/step\n",
      "1/1 [==============================] - 0s 21ms/step\n",
      "1/1 [==============================] - 0s 23ms/step\n",
      "1/1 [==============================] - 0s 20ms/step\n",
      "1/1 [==============================] - 0s 22ms/step\n",
      "1/1 [==============================] - 0s 19ms/step\n",
      "1/1 [==============================] - 0s 19ms/step\n",
      "1/1 [==============================] - 0s 19ms/step\n",
      "1/1 [==============================] - 0s 18ms/step\n",
      "1/1 [==============================] - 0s 19ms/step\n",
      "1/1 [==============================] - 0s 17ms/step\n",
      "1/1 [==============================] - 0s 8ms/step\n",
      "1/1 [==============================] - 0s 19ms/step\n",
      "1/1 [==============================] - 0s 18ms/step\n",
      "1/1 [==============================] - 0s 22ms/step\n",
      "1/1 [==============================] - 0s 22ms/step\n",
      "1/1 [==============================] - 0s 22ms/step\n",
      "1/1 [==============================] - 0s 20ms/step\n",
      "1/1 [==============================] - 0s 17ms/step\n",
      "1/1 [==============================] - 0s 19ms/step\n",
      "1/1 [==============================] - 0s 19ms/step\n",
      "1/1 [==============================] - 0s 19ms/step\n",
      "1/1 [==============================] - 0s 9ms/step\n",
      "1/1 [==============================] - 0s 19ms/step\n",
      "1/1 [==============================] - 0s 19ms/step\n",
      "1/1 [==============================] - 0s 19ms/step\n",
      "1/1 [==============================] - 0s 18ms/step\n",
      "1/1 [==============================] - 0s 19ms/step\n",
      "1/1 [==============================] - 0s 18ms/step\n",
      "1/1 [==============================] - 0s 19ms/step\n",
      "1/1 [==============================] - 0s 18ms/step\n",
      "1/1 [==============================] - 0s 19ms/step\n",
      "1/1 [==============================] - 0s 19ms/step\n",
      "1/1 [==============================] - 0s 18ms/step\n",
      "1/1 [==============================] - 0s 20ms/step\n",
      "1/1 [==============================] - 0s 19ms/step\n",
      "1/1 [==============================] - 0s 20ms/step\n",
      "1/1 [==============================] - 0s 20ms/step\n",
      "1/1 [==============================] - 0s 19ms/step\n",
      "1/1 [==============================] - 0s 19ms/step\n",
      "1/1 [==============================] - 0s 20ms/step\n",
      "1/1 [==============================] - 0s 20ms/step\n",
      "1/1 [==============================] - 0s 20ms/step\n",
      "1/1 [==============================] - 0s 20ms/step\n",
      "1/1 [==============================] - 0s 20ms/step\n",
      "1/1 [==============================] - 0s 20ms/step\n",
      "1/1 [==============================] - 0s 21ms/step\n",
      "1/1 [==============================] - 0s 20ms/step\n",
      "1/1 [==============================] - 0s 20ms/step\n",
      "1/1 [==============================] - 0s 21ms/step\n",
      "1/1 [==============================] - 0s 19ms/step\n",
      "1/1 [==============================] - 0s 20ms/step\n",
      "1/1 [==============================] - 0s 21ms/step\n",
      "1/1 [==============================] - 0s 21ms/step\n",
      "1/1 [==============================] - 0s 20ms/step\n",
      "1/1 [==============================] - 0s 20ms/step\n",
      "1/1 [==============================] - 0s 20ms/step\n",
      "1/1 [==============================] - 0s 18ms/step\n",
      "1/1 [==============================] - 0s 18ms/step\n",
      "1/1 [==============================] - 0s 15ms/step\n",
      "1/1 [==============================] - 0s 3ms/step\n",
      "1/1 [==============================] - 0s 9ms/step\n",
      "1/1 [==============================] - 0s 20ms/step\n",
      "1/1 [==============================] - 0s 18ms/step\n",
      "1/1 [==============================] - 0s 8ms/step\n",
      "1/1 [==============================] - 0s 19ms/step\n",
      "1/1 [==============================] - 0s 17ms/step\n",
      "1/1 [==============================] - 0s 18ms/step\n",
      "1/1 [==============================] - 0s 17ms/step\n",
      "1/1 [==============================] - 0s 19ms/step\n",
      "1/1 [==============================] - 0s 19ms/step\n",
      "1/1 [==============================] - 0s 19ms/step\n",
      "1/1 [==============================] - 0s 19ms/step\n",
      "1/1 [==============================] - 0s 19ms/step\n",
      "1/1 [==============================] - 0s 21ms/step\n",
      "1/1 [==============================] - 0s 20ms/step\n",
      "1/1 [==============================] - 0s 21ms/step\n",
      "1/1 [==============================] - 0s 20ms/step\n",
      "1/1 [==============================] - 0s 20ms/step\n",
      "1/1 [==============================] - 0s 20ms/step\n",
      "1/1 [==============================] - 0s 21ms/step\n",
      "1/1 [==============================] - 0s 20ms/step\n",
      "1/1 [==============================] - 0s 17ms/step\n",
      "1/1 [==============================] - 0s 19ms/step\n",
      "1/1 [==============================] - 0s 18ms/step\n",
      "1/1 [==============================] - 0s 11ms/step\n",
      "1/1 [==============================] - 0s 22ms/step\n",
      "1/1 [==============================] - 0s 19ms/step\n",
      "1/1 [==============================] - 0s 20ms/step\n",
      "1/1 [==============================] - 0s 19ms/step\n",
      "1/1 [==============================] - 0s 19ms/step\n",
      "1/1 [==============================] - 0s 18ms/step\n",
      "1/1 [==============================] - 0s 19ms/step\n",
      "1/1 [==============================] - 0s 21ms/step\n",
      "1/1 [==============================] - 0s 20ms/step\n",
      "1/1 [==============================] - 0s 20ms/step\n",
      "1/1 [==============================] - 0s 19ms/step\n",
      "1/1 [==============================] - 0s 19ms/step\n",
      "1/1 [==============================] - 0s 18ms/step\n",
      "1/1 [==============================] - 0s 20ms/step\n",
      "1/1 [==============================] - 0s 20ms/step\n",
      "1/1 [==============================] - 0s 20ms/step\n",
      "1/1 [==============================] - 0s 19ms/step\n",
      "1/1 [==============================] - 0s 20ms/step\n",
      "1/1 [==============================] - 0s 3ms/step\n",
      "1/1 [==============================] - 0s 19ms/step\n",
      "1/1 [==============================] - 0s 19ms/step\n",
      "1/1 [==============================] - 0s 19ms/step\n",
      "1/1 [==============================] - 0s 19ms/step\n",
      "1/1 [==============================] - 0s 18ms/step\n",
      "1/1 [==============================] - 0s 19ms/step\n",
      "1/1 [==============================] - 0s 18ms/step\n",
      "1/1 [==============================] - 0s 19ms/step\n",
      "1/1 [==============================] - 0s 21ms/step\n",
      "1/1 [==============================] - 0s 19ms/step\n",
      "1/1 [==============================] - 0s 19ms/step\n",
      "1/1 [==============================] - 0s 19ms/step\n",
      "1/1 [==============================] - 0s 17ms/step\n",
      "1/1 [==============================] - 0s 19ms/step\n",
      "1/1 [==============================] - 0s 20ms/step\n",
      "1/1 [==============================] - 0s 21ms/step\n",
      "1/1 [==============================] - 0s 20ms/step\n",
      "1/1 [==============================] - 0s 22ms/step\n",
      "1/1 [==============================] - 0s 20ms/step\n",
      "1/1 [==============================] - 0s 19ms/step\n",
      "1/1 [==============================] - 0s 20ms/step\n",
      "1/1 [==============================] - 0s 19ms/step\n",
      "1/1 [==============================] - 0s 19ms/step\n",
      "1/1 [==============================] - 0s 19ms/step\n",
      "1/1 [==============================] - 0s 19ms/step\n",
      "1/1 [==============================] - 0s 21ms/step\n",
      "1/1 [==============================] - 0s 20ms/step\n",
      "1/1 [==============================] - 0s 20ms/step\n",
      "1/1 [==============================] - 0s 19ms/step\n",
      "1/1 [==============================] - 0s 19ms/step\n",
      "1/1 [==============================] - 0s 7ms/step\n",
      "1/1 [==============================] - 0s 18ms/step\n",
      "1/1 [==============================] - 0s 19ms/step\n",
      "1/1 [==============================] - 0s 18ms/step\n",
      "1/1 [==============================] - 0s 19ms/step\n",
      "1/1 [==============================] - 0s 19ms/step\n",
      "1/1 [==============================] - 0s 20ms/step\n",
      "1/1 [==============================] - 0s 21ms/step\n",
      "1/1 [==============================] - 0s 20ms/step\n",
      "1/1 [==============================] - 0s 20ms/step\n",
      "1/1 [==============================] - 0s 20ms/step\n",
      "1/1 [==============================] - 0s 19ms/step\n",
      "1/1 [==============================] - 0s 20ms/step\n",
      "1/1 [==============================] - 0s 20ms/step\n",
      "1/1 [==============================] - 0s 21ms/step\n",
      "1/1 [==============================] - 0s 20ms/step\n",
      "1/1 [==============================] - 0s 9ms/step\n",
      "1/1 [==============================] - 0s 21ms/step\n",
      "1/1 [==============================] - 0s 19ms/step\n",
      "1/1 [==============================] - 0s 19ms/step\n",
      "1/1 [==============================] - 0s 18ms/step\n"
     ]
    }
   ],
   "source": [
    "indexx=[]\n",
    "for i in range(300):\n",
    "    y_hat=model.predict(x=X_test[i:(1+i)])\n",
    "    indexx.append(list(y_hat[0]).index(y_hat[0][y_hat[0]==max(y_hat[0])][0]))\n",
    "    "
   ]
  },
  {
   "cell_type": "code",
   "execution_count": 29,
   "id": "aa9c24d4",
   "metadata": {},
   "outputs": [],
   "source": [
    "misc=[]\n",
    "for i in range(300):\n",
    "    if indexx[i] != int(y_test[i:(i+1)]):\n",
    "        misc.append(i)"
   ]
  },
  {
   "cell_type": "code",
   "execution_count": 30,
   "id": "010ae380",
   "metadata": {
    "scrolled": false
   },
   "outputs": [
    {
     "data": {
      "image/png": "[encoded data removed]",
      "text/plain": [
       "<Figure size 432x288 with 1 Axes>"
      ]
     },
     "metadata": {
      "needs_background": "light"
     },
     "output_type": "display_data"
    },
    {
     "data": {
      "image/png": "[encoded data removed]",
      "text/plain": [
       "<Figure size 432x288 with 1 Axes>"
      ]
     },
     "metadata": {
      "needs_background": "light"
     },
     "output_type": "display_data"
    },
    {
     "data": {
      "image/png": "[encoded data removed]",
      "text/plain": [
       "<Figure size 432x288 with 1 Axes>"
      ]
     },
     "metadata": {
      "needs_background": "light"
     },
     "output_type": "display_data"
    },
    {
     "data": {
      "image/png": "[encoded data removed]",
      "text/plain": [
       "<Figure size 432x288 with 1 Axes>"
      ]
     },
     "metadata": {
      "needs_background": "light"
     },
     "output_type": "display_data"
    },
    {
     "data": {
      "image/png": "[encoded data removed]",
      "text/plain": [
       "<Figure size 432x288 with 1 Axes>"
      ]
     },
     "metadata": {
      "needs_background": "light"
     },
     "output_type": "display_data"
    },
    {
     "data": {
      "image/png": "[encoded data removed]",
      "text/plain": [
       "<Figure size 432x288 with 1 Axes>"
      ]
     },
     "metadata": {
      "needs_background": "light"
     },
     "output_type": "display_data"
    },
    {
     "data": {
      "image/png": "[encoded data removed]",
      "text/plain": [
       "<Figure size 432x288 with 1 Axes>"
      ]
     },
     "metadata": {
      "needs_background": "light"
     },
     "output_type": "display_data"
    },
    {
     "data": {
      "image/png": "[encoded data removed]",
      "text/plain": [
       "<Figure size 432x288 with 1 Axes>"
      ]
     },
     "metadata": {
      "needs_background": "light"
     },
     "output_type": "display_data"
    },
    {
     "data": {
      "image/png": "[encoded data removed]",
      "text/plain": [
       "<Figure size 432x288 with 1 Axes>"
      ]
     },
     "metadata": {
      "needs_background": "light"
     },
     "output_type": "display_data"
    },
    {
     "data": {
      "image/png": "[encoded data removed]",
      "text/plain": [
       "<Figure size 432x288 with 1 Axes>"
      ]
     },
     "metadata": {
      "needs_background": "light"
     },
     "output_type": "display_data"
    },
    {
     "data": {
      "image/png": "[encoded data removed]",
      "text/plain": [
       "<Figure size 432x288 with 1 Axes>"
      ]
     },
     "metadata": {
      "needs_background": "light"
     },
     "output_type": "display_data"
    },
    {
     "data": {
      "image/png": "[encoded data removed]",
      "text/plain": [
       "<Figure size 432x288 with 1 Axes>"
      ]
     },
     "metadata": {
      "needs_background": "light"
     },
     "output_type": "display_data"
    },
    {
     "data": {
      "image/png": "[encoded data removed]",
      "text/plain": [
       "<Figure size 432x288 with 1 Axes>"
      ]
     },
     "metadata": {
      "needs_background": "light"
     },
     "output_type": "display_data"
    },
    {
     "data": {
      "image/png": "[encoded data removed]",
      "text/plain": [
       "<Figure size 432x288 with 1 Axes>"
      ]
     },
     "metadata": {
      "needs_background": "light"
     },
     "output_type": "display_data"
    },
    {
     "data": {
      "image/png": "[encoded data removed]",
      "text/plain": [
       "<Figure size 432x288 with 1 Axes>"
      ]
     },
     "metadata": {
      "needs_background": "light"
     },
     "output_type": "display_data"
    },
    {
     "data": {
      "image/png": "[encoded data removed]",
      "text/plain": [
       "<Figure size 432x288 with 1 Axes>"
      ]
     },
     "metadata": {
      "needs_background": "light"
     },
     "output_type": "display_data"
    },
    {
     "data": {
      "image/png": "[encoded data removed]",
      "text/plain": [
       "<Figure size 432x288 with 1 Axes>"
      ]
     },
     "metadata": {
      "needs_background": "light"
     },
     "output_type": "display_data"
    },
    {
     "data": {
      "image/png": "[encoded data removed]",
      "text/plain": [
       "<Figure size 432x288 with 1 Axes>"
      ]
     },
     "metadata": {
      "needs_background": "light"
     },
     "output_type": "display_data"
    },
    {
     "data": {
      "image/png": "[encoded data removed]",
      "text/plain": [
       "<Figure size 432x288 with 1 Axes>"
      ]
     },
     "metadata": {
      "needs_background": "light"
     },
     "output_type": "display_data"
    },
    {
     "data": {
      "image/png": "[encoded data removed]",
      "text/plain": [
       "<Figure size 432x288 with 1 Axes>"
      ]
     },
     "metadata": {
      "needs_background": "light"
     },
     "output_type": "display_data"
    }
   ],
   "source": [
    "for i in misc:\n",
    "    some_digit = np.array(X_test[i:(i+1)])\n",
    "    some_digit_image = some_digit.reshape(28, 28)\n",
    "    plt.imshow(some_digit_image, cmap = mpl.cm.binary,\n",
    "           interpolation=\"nearest\")\n",
    "    plt.axis(\"off\")\n",
    "    plt.show()"
   ]
  },
  {
   "cell_type": "markdown",
   "id": "aa593c59",
   "metadata": {},
   "source": [
    "# With PCA data"
   ]
  },
  {
   "cell_type": "code",
   "execution_count": 159,
   "id": "ac8d9360",
   "metadata": {},
   "outputs": [],
   "source": [
    "l = [f'{x}' for x in range(26)]\n",
    "dfp = pd.read_csv('feat_25.csv',names=l)"
   ]
  },
  {
   "cell_type": "code",
   "execution_count": 160,
   "id": "e9161b0e",
   "metadata": {},
   "outputs": [
    {
     "data": {
      "text/html": [
       "<div>\n",
       "<style scoped>\n",
       "    .dataframe tbody tr th:only-of-type {\n",
       "        vertical-align: middle;\n",
       "    }\n",
       "\n",
       "    .dataframe tbody tr th {\n",
       "        vertical-align: top;\n",
       "    }\n",
       "\n",
       "    .dataframe thead th {\n",
       "        text-align: right;\n",
       "    }\n",
       "</style>\n",
       "<table border=\"1\" class=\"dataframe\">\n",
       "  <thead>\n",
       "    <tr style=\"text-align: right;\">\n",
       "      <th></th>\n",
       "      <th>0</th>\n",
       "      <th>1</th>\n",
       "      <th>2</th>\n",
       "      <th>3</th>\n",
       "      <th>4</th>\n",
       "      <th>5</th>\n",
       "      <th>6</th>\n",
       "      <th>7</th>\n",
       "      <th>8</th>\n",
       "      <th>9</th>\n",
       "      <th>...</th>\n",
       "      <th>16</th>\n",
       "      <th>17</th>\n",
       "      <th>18</th>\n",
       "      <th>19</th>\n",
       "      <th>20</th>\n",
       "      <th>21</th>\n",
       "      <th>22</th>\n",
       "      <th>23</th>\n",
       "      <th>24</th>\n",
       "      <th>25</th>\n",
       "    </tr>\n",
       "  </thead>\n",
       "  <tbody>\n",
       "    <tr>\n",
       "      <th>0</th>\n",
       "      <td>1.654304</td>\n",
       "      <td>-0.545767</td>\n",
       "      <td>-0.933080</td>\n",
       "      <td>0.519976</td>\n",
       "      <td>-2.320598</td>\n",
       "      <td>1.367332</td>\n",
       "      <td>0.054777</td>\n",
       "      <td>-1.950538</td>\n",
       "      <td>0.544212</td>\n",
       "      <td>-1.075651</td>\n",
       "      <td>...</td>\n",
       "      <td>1.170660</td>\n",
       "      <td>0.103834</td>\n",
       "      <td>0.459804</td>\n",
       "      <td>-1.044173</td>\n",
       "      <td>0.977424</td>\n",
       "      <td>-0.344050</td>\n",
       "      <td>1.610031</td>\n",
       "      <td>-0.425905</td>\n",
       "      <td>-0.563896</td>\n",
       "      <td>0.0</td>\n",
       "    </tr>\n",
       "    <tr>\n",
       "      <th>1</th>\n",
       "      <td>1.143184</td>\n",
       "      <td>0.206634</td>\n",
       "      <td>-0.483264</td>\n",
       "      <td>-1.615974</td>\n",
       "      <td>-1.813212</td>\n",
       "      <td>0.637231</td>\n",
       "      <td>2.370469</td>\n",
       "      <td>0.037484</td>\n",
       "      <td>1.098836</td>\n",
       "      <td>-1.183758</td>\n",
       "      <td>...</td>\n",
       "      <td>1.810244</td>\n",
       "      <td>-1.163106</td>\n",
       "      <td>-1.493243</td>\n",
       "      <td>-0.012443</td>\n",
       "      <td>-0.470192</td>\n",
       "      <td>-0.390559</td>\n",
       "      <td>-0.164660</td>\n",
       "      <td>0.120084</td>\n",
       "      <td>-1.161470</td>\n",
       "      <td>0.0</td>\n",
       "    </tr>\n",
       "    <tr>\n",
       "      <th>2</th>\n",
       "      <td>3.016369</td>\n",
       "      <td>0.047395</td>\n",
       "      <td>1.230139</td>\n",
       "      <td>0.011447</td>\n",
       "      <td>-1.670743</td>\n",
       "      <td>-1.158001</td>\n",
       "      <td>0.632818</td>\n",
       "      <td>-0.662665</td>\n",
       "      <td>-0.339282</td>\n",
       "      <td>-0.588839</td>\n",
       "      <td>...</td>\n",
       "      <td>-0.968032</td>\n",
       "      <td>-0.588385</td>\n",
       "      <td>-0.025694</td>\n",
       "      <td>0.043960</td>\n",
       "      <td>0.977063</td>\n",
       "      <td>-0.070138</td>\n",
       "      <td>1.186279</td>\n",
       "      <td>-0.871176</td>\n",
       "      <td>2.040408</td>\n",
       "      <td>0.0</td>\n",
       "    </tr>\n",
       "    <tr>\n",
       "      <th>3</th>\n",
       "      <td>0.625194</td>\n",
       "      <td>0.072500</td>\n",
       "      <td>-0.114529</td>\n",
       "      <td>-1.490145</td>\n",
       "      <td>-2.485835</td>\n",
       "      <td>0.354404</td>\n",
       "      <td>0.946991</td>\n",
       "      <td>0.191958</td>\n",
       "      <td>1.053374</td>\n",
       "      <td>-0.190401</td>\n",
       "      <td>...</td>\n",
       "      <td>1.744193</td>\n",
       "      <td>-1.427185</td>\n",
       "      <td>-1.464317</td>\n",
       "      <td>1.012185</td>\n",
       "      <td>-0.706599</td>\n",
       "      <td>-0.017813</td>\n",
       "      <td>-0.828093</td>\n",
       "      <td>2.364627</td>\n",
       "      <td>-0.349696</td>\n",
       "      <td>0.0</td>\n",
       "    </tr>\n",
       "    <tr>\n",
       "      <th>4</th>\n",
       "      <td>0.580433</td>\n",
       "      <td>0.572713</td>\n",
       "      <td>-1.026761</td>\n",
       "      <td>-1.796701</td>\n",
       "      <td>-0.256098</td>\n",
       "      <td>0.828793</td>\n",
       "      <td>1.780351</td>\n",
       "      <td>0.405128</td>\n",
       "      <td>2.373261</td>\n",
       "      <td>-1.080473</td>\n",
       "      <td>...</td>\n",
       "      <td>0.520433</td>\n",
       "      <td>-0.599256</td>\n",
       "      <td>0.438023</td>\n",
       "      <td>1.113932</td>\n",
       "      <td>-0.344528</td>\n",
       "      <td>1.504522</td>\n",
       "      <td>3.462207</td>\n",
       "      <td>-2.199379</td>\n",
       "      <td>-2.824360</td>\n",
       "      <td>0.0</td>\n",
       "    </tr>\n",
       "    <tr>\n",
       "      <th>...</th>\n",
       "      <td>...</td>\n",
       "      <td>...</td>\n",
       "      <td>...</td>\n",
       "      <td>...</td>\n",
       "      <td>...</td>\n",
       "      <td>...</td>\n",
       "      <td>...</td>\n",
       "      <td>...</td>\n",
       "      <td>...</td>\n",
       "      <td>...</td>\n",
       "      <td>...</td>\n",
       "      <td>...</td>\n",
       "      <td>...</td>\n",
       "      <td>...</td>\n",
       "      <td>...</td>\n",
       "      <td>...</td>\n",
       "      <td>...</td>\n",
       "      <td>...</td>\n",
       "      <td>...</td>\n",
       "      <td>...</td>\n",
       "      <td>...</td>\n",
       "    </tr>\n",
       "    <tr>\n",
       "      <th>2995</th>\n",
       "      <td>-0.456653</td>\n",
       "      <td>1.729727</td>\n",
       "      <td>0.399702</td>\n",
       "      <td>0.319964</td>\n",
       "      <td>-0.607337</td>\n",
       "      <td>-0.087839</td>\n",
       "      <td>-0.291162</td>\n",
       "      <td>-0.465680</td>\n",
       "      <td>0.151494</td>\n",
       "      <td>1.558289</td>\n",
       "      <td>...</td>\n",
       "      <td>1.564065</td>\n",
       "      <td>-0.198223</td>\n",
       "      <td>-0.081220</td>\n",
       "      <td>-0.592329</td>\n",
       "      <td>1.066769</td>\n",
       "      <td>-0.587324</td>\n",
       "      <td>-0.739663</td>\n",
       "      <td>-0.054173</td>\n",
       "      <td>-1.335516</td>\n",
       "      <td>9.0</td>\n",
       "    </tr>\n",
       "    <tr>\n",
       "      <th>2996</th>\n",
       "      <td>-0.508929</td>\n",
       "      <td>1.847698</td>\n",
       "      <td>0.737128</td>\n",
       "      <td>0.794907</td>\n",
       "      <td>0.869302</td>\n",
       "      <td>-1.242668</td>\n",
       "      <td>0.992115</td>\n",
       "      <td>-0.082615</td>\n",
       "      <td>0.830351</td>\n",
       "      <td>-0.144912</td>\n",
       "      <td>...</td>\n",
       "      <td>-1.121559</td>\n",
       "      <td>0.157768</td>\n",
       "      <td>1.029099</td>\n",
       "      <td>0.894957</td>\n",
       "      <td>0.327257</td>\n",
       "      <td>0.424843</td>\n",
       "      <td>0.156973</td>\n",
       "      <td>0.863057</td>\n",
       "      <td>-0.734006</td>\n",
       "      <td>9.0</td>\n",
       "    </tr>\n",
       "    <tr>\n",
       "      <th>2997</th>\n",
       "      <td>-0.941072</td>\n",
       "      <td>0.865362</td>\n",
       "      <td>-0.924921</td>\n",
       "      <td>-0.135205</td>\n",
       "      <td>-0.293020</td>\n",
       "      <td>-1.002599</td>\n",
       "      <td>-0.266469</td>\n",
       "      <td>-0.261606</td>\n",
       "      <td>-0.515560</td>\n",
       "      <td>-0.907709</td>\n",
       "      <td>...</td>\n",
       "      <td>0.248317</td>\n",
       "      <td>-0.035346</td>\n",
       "      <td>0.396430</td>\n",
       "      <td>-1.408675</td>\n",
       "      <td>1.209539</td>\n",
       "      <td>-0.744626</td>\n",
       "      <td>-0.070772</td>\n",
       "      <td>0.789985</td>\n",
       "      <td>-0.033393</td>\n",
       "      <td>9.0</td>\n",
       "    </tr>\n",
       "    <tr>\n",
       "      <th>2998</th>\n",
       "      <td>-0.462417</td>\n",
       "      <td>1.418198</td>\n",
       "      <td>-1.415659</td>\n",
       "      <td>0.634069</td>\n",
       "      <td>0.850680</td>\n",
       "      <td>-0.925182</td>\n",
       "      <td>-0.159660</td>\n",
       "      <td>0.583575</td>\n",
       "      <td>0.684680</td>\n",
       "      <td>-1.165339</td>\n",
       "      <td>...</td>\n",
       "      <td>0.366578</td>\n",
       "      <td>0.809446</td>\n",
       "      <td>-1.218773</td>\n",
       "      <td>-1.135803</td>\n",
       "      <td>1.154675</td>\n",
       "      <td>-0.024268</td>\n",
       "      <td>0.400686</td>\n",
       "      <td>-0.342591</td>\n",
       "      <td>0.143127</td>\n",
       "      <td>9.0</td>\n",
       "    </tr>\n",
       "    <tr>\n",
       "      <th>2999</th>\n",
       "      <td>-1.078557</td>\n",
       "      <td>0.599808</td>\n",
       "      <td>-0.443373</td>\n",
       "      <td>0.749003</td>\n",
       "      <td>0.158276</td>\n",
       "      <td>-0.400171</td>\n",
       "      <td>0.620081</td>\n",
       "      <td>-1.378414</td>\n",
       "      <td>-0.206162</td>\n",
       "      <td>0.537887</td>\n",
       "      <td>...</td>\n",
       "      <td>-0.009475</td>\n",
       "      <td>0.141797</td>\n",
       "      <td>0.173303</td>\n",
       "      <td>-0.558330</td>\n",
       "      <td>-1.531514</td>\n",
       "      <td>-1.049221</td>\n",
       "      <td>-0.436556</td>\n",
       "      <td>0.453844</td>\n",
       "      <td>0.737472</td>\n",
       "      <td>9.0</td>\n",
       "    </tr>\n",
       "  </tbody>\n",
       "</table>\n",
       "<p>3000 rows × 26 columns</p>\n",
       "</div>"
      ],
      "text/plain": [
       "             0         1         2         3         4         5         6  \\\n",
       "0     1.654304 -0.545767 -0.933080  0.519976 -2.320598  1.367332  0.054777   \n",
       "1     1.143184  0.206634 -0.483264 -1.615974 -1.813212  0.637231  2.370469   \n",
       "2     3.016369  0.047395  1.230139  0.011447 -1.670743 -1.158001  0.632818   \n",
       "3     0.625194  0.072500 -0.114529 -1.490145 -2.485835  0.354404  0.946991   \n",
       "4     0.580433  0.572713 -1.026761 -1.796701 -0.256098  0.828793  1.780351   \n",
       "...        ...       ...       ...       ...       ...       ...       ...   \n",
       "2995 -0.456653  1.729727  0.399702  0.319964 -0.607337 -0.087839 -0.291162   \n",
       "2996 -0.508929  1.847698  0.737128  0.794907  0.869302 -1.242668  0.992115   \n",
       "2997 -0.941072  0.865362 -0.924921 -0.135205 -0.293020 -1.002599 -0.266469   \n",
       "2998 -0.462417  1.418198 -1.415659  0.634069  0.850680 -0.925182 -0.159660   \n",
       "2999 -1.078557  0.599808 -0.443373  0.749003  0.158276 -0.400171  0.620081   \n",
       "\n",
       "             7         8         9  ...        16        17        18  \\\n",
       "0    -1.950538  0.544212 -1.075651  ...  1.170660  0.103834  0.459804   \n",
       "1     0.037484  1.098836 -1.183758  ...  1.810244 -1.163106 -1.493243   \n",
       "2    -0.662665 -0.339282 -0.588839  ... -0.968032 -0.588385 -0.025694   \n",
       "3     0.191958  1.053374 -0.190401  ...  1.744193 -1.427185 -1.464317   \n",
       "4     0.405128  2.373261 -1.080473  ...  0.520433 -0.599256  0.438023   \n",
       "...        ...       ...       ...  ...       ...       ...       ...   \n",
       "2995 -0.465680  0.151494  1.558289  ...  1.564065 -0.198223 -0.081220   \n",
       "2996 -0.082615  0.830351 -0.144912  ... -1.121559  0.157768  1.029099   \n",
       "2997 -0.261606 -0.515560 -0.907709  ...  0.248317 -0.035346  0.396430   \n",
       "2998  0.583575  0.684680 -1.165339  ...  0.366578  0.809446 -1.218773   \n",
       "2999 -1.378414 -0.206162  0.537887  ... -0.009475  0.141797  0.173303   \n",
       "\n",
       "            19        20        21        22        23        24   25  \n",
       "0    -1.044173  0.977424 -0.344050  1.610031 -0.425905 -0.563896  0.0  \n",
       "1    -0.012443 -0.470192 -0.390559 -0.164660  0.120084 -1.161470  0.0  \n",
       "2     0.043960  0.977063 -0.070138  1.186279 -0.871176  2.040408  0.0  \n",
       "3     1.012185 -0.706599 -0.017813 -0.828093  2.364627 -0.349696  0.0  \n",
       "4     1.113932 -0.344528  1.504522  3.462207 -2.199379 -2.824360  0.0  \n",
       "...        ...       ...       ...       ...       ...       ...  ...  \n",
       "2995 -0.592329  1.066769 -0.587324 -0.739663 -0.054173 -1.335516  9.0  \n",
       "2996  0.894957  0.327257  0.424843  0.156973  0.863057 -0.734006  9.0  \n",
       "2997 -1.408675  1.209539 -0.744626 -0.070772  0.789985 -0.033393  9.0  \n",
       "2998 -1.135803  1.154675 -0.024268  0.400686 -0.342591  0.143127  9.0  \n",
       "2999 -0.558330 -1.531514 -1.049221 -0.436556  0.453844  0.737472  9.0  \n",
       "\n",
       "[3000 rows x 26 columns]"
      ]
     },
     "execution_count": 160,
     "metadata": {},
     "output_type": "execute_result"
    }
   ],
   "source": [
    "dfp"
   ]
  },
  {
   "cell_type": "code",
   "execution_count": 161,
   "id": "f55a10d1",
   "metadata": {},
   "outputs": [],
   "source": [
    "X = dfp.drop('25',axis=1)\n",
    "y = dfp['25']"
   ]
  },
  {
   "cell_type": "code",
   "execution_count": 162,
   "id": "7aacb5ff",
   "metadata": {},
   "outputs": [
    {
     "data": {
      "text/plain": [
       "(3000, 25)"
      ]
     },
     "execution_count": 162,
     "metadata": {},
     "output_type": "execute_result"
    }
   ],
   "source": [
    "X.shape"
   ]
  },
  {
   "cell_type": "code",
   "execution_count": 163,
   "id": "95f2a823",
   "metadata": {},
   "outputs": [],
   "source": [
    "X_train, X_test, y_train, y_test = train_test_split(X, y, test_size=0.10)"
   ]
  },
  {
   "cell_type": "code",
   "execution_count": 164,
   "id": "7444228c",
   "metadata": {},
   "outputs": [],
   "source": [
    "X_trainn, X_val, y_trainn, y_val = train_test_split(X_train, y_train,\n",
    "                                           test_size=0.1)"
   ]
  },
  {
   "cell_type": "code",
   "execution_count": 165,
   "id": "19e32169",
   "metadata": {},
   "outputs": [],
   "source": [
    "model = keras.models.Sequential([\n",
    "keras.layers.Flatten(input_shape=[25]),\n",
    "keras.layers.Dropout(rate=0.1),\n",
    "keras.layers.Dense(200, activation=\"relu\"),\n",
    "keras.layers.Dropout(rate=0.1),\n",
    "keras.layers.Dense(150, activation=\"relu\"),\n",
    "keras.layers.Dropout(rate=0.1),\n",
    "keras.layers.Dense(100, activation=\"relu\"),\n",
    "keras.layers.Dropout(rate=0.01),\n",
    "keras.layers.Dense(80, activation=\"relu\"),\n",
    "keras.layers.Dropout(rate=0.01),\n",
    "keras.layers.Dense(10, activation=\"softmax\")\n",
    "])\n"
   ]
  },
  {
   "cell_type": "code",
   "execution_count": 166,
   "id": "c5a6eebe",
   "metadata": {},
   "outputs": [
    {
     "name": "stdout",
     "output_type": "stream",
     "text": [
      "Model: \"sequential_8\"\n",
      "_________________________________________________________________\n",
      " Layer (type)                Output Shape              Param #   \n",
      "=================================================================\n",
      " flatten_8 (Flatten)         (None, 25)                0         \n",
      "                                                                 \n",
      " dropout_40 (Dropout)        (None, 25)                0         \n",
      "                                                                 \n",
      " dense_40 (Dense)            (None, 200)               5200      \n",
      "                                                                 \n",
      " dropout_41 (Dropout)        (None, 200)               0         \n",
      "                                                                 \n",
      " dense_41 (Dense)            (None, 150)               30150     \n",
      "                                                                 \n",
      " dropout_42 (Dropout)        (None, 150)               0         \n",
      "                                                                 \n",
      " dense_42 (Dense)            (None, 100)               15100     \n",
      "                                                                 \n",
      " dropout_43 (Dropout)        (None, 100)               0         \n",
      "                                                                 \n",
      " dense_43 (Dense)            (None, 80)                8080      \n",
      "                                                                 \n",
      " dropout_44 (Dropout)        (None, 80)                0         \n",
      "                                                                 \n",
      " dense_44 (Dense)            (None, 10)                810       \n",
      "                                                                 \n",
      "=================================================================\n",
      "Total params: 59,340\n",
      "Trainable params: 59,340\n",
      "Non-trainable params: 0\n",
      "_________________________________________________________________\n"
     ]
    }
   ],
   "source": [
    "model.summary()"
   ]
  },
  {
   "cell_type": "code",
   "execution_count": 167,
   "id": "a558effa",
   "metadata": {},
   "outputs": [],
   "source": [
    "model.compile(loss='sparse_categorical_crossentropy',\n",
    "              optimizer=tf.keras.optimizers.Adam(learning_rate=0.000157),\n",
    "              metrics='accuracy')"
   ]
  },
  {
   "cell_type": "code",
   "execution_count": 168,
   "id": "e5c42f04",
   "metadata": {},
   "outputs": [
    {
     "name": "stdout",
     "output_type": "stream",
     "text": [
      "Epoch 1/150\n",
      "76/76 [==============================] - 1s 6ms/step - loss: 2.2380 - accuracy: 0.2198 - val_loss: 2.1058 - val_accuracy: 0.5148\n",
      "Epoch 2/150\n",
      "76/76 [==============================] - 0s 6ms/step - loss: 1.9670 - accuracy: 0.4802 - val_loss: 1.6169 - val_accuracy: 0.7444\n",
      "Epoch 3/150\n",
      "76/76 [==============================] - 0s 3ms/step - loss: 1.4026 - accuracy: 0.6749 - val_loss: 0.9142 - val_accuracy: 0.8370\n",
      "Epoch 4/150\n",
      "76/76 [==============================] - 0s 3ms/step - loss: 0.9371 - accuracy: 0.7432 - val_loss: 0.5827 - val_accuracy: 0.8741\n",
      "Epoch 5/150\n",
      "76/76 [==============================] - 0s 3ms/step - loss: 0.7214 - accuracy: 0.7901 - val_loss: 0.4450 - val_accuracy: 0.9074\n",
      "Epoch 6/150\n",
      "76/76 [==============================] - 0s 3ms/step - loss: 0.6201 - accuracy: 0.8119 - val_loss: 0.3935 - val_accuracy: 0.8889\n",
      "Epoch 7/150\n",
      "76/76 [==============================] - 0s 4ms/step - loss: 0.5676 - accuracy: 0.8214 - val_loss: 0.3740 - val_accuracy: 0.8926\n",
      "Epoch 8/150\n",
      "76/76 [==============================] - 0s 4ms/step - loss: 0.5263 - accuracy: 0.8354 - val_loss: 0.3380 - val_accuracy: 0.9000\n",
      "Epoch 9/150\n",
      "76/76 [==============================] - 0s 4ms/step - loss: 0.4835 - accuracy: 0.8494 - val_loss: 0.3084 - val_accuracy: 0.9111\n",
      "Epoch 10/150\n",
      "76/76 [==============================] - 0s 3ms/step - loss: 0.4727 - accuracy: 0.8481 - val_loss: 0.2958 - val_accuracy: 0.9111\n",
      "Epoch 11/150\n",
      "76/76 [==============================] - 0s 3ms/step - loss: 0.4884 - accuracy: 0.8498 - val_loss: 0.2935 - val_accuracy: 0.9074\n",
      "Epoch 12/150\n",
      "76/76 [==============================] - 0s 3ms/step - loss: 0.4490 - accuracy: 0.8613 - val_loss: 0.2946 - val_accuracy: 0.9074\n",
      "Epoch 13/150\n",
      "76/76 [==============================] - 0s 3ms/step - loss: 0.4179 - accuracy: 0.8613 - val_loss: 0.2737 - val_accuracy: 0.9074\n",
      "Epoch 14/150\n",
      "76/76 [==============================] - 0s 3ms/step - loss: 0.4170 - accuracy: 0.8646 - val_loss: 0.2680 - val_accuracy: 0.9222\n",
      "Epoch 15/150\n",
      "76/76 [==============================] - 0s 3ms/step - loss: 0.3890 - accuracy: 0.8782 - val_loss: 0.2714 - val_accuracy: 0.9148\n",
      "Epoch 16/150\n",
      "76/76 [==============================] - 0s 3ms/step - loss: 0.3819 - accuracy: 0.8753 - val_loss: 0.2643 - val_accuracy: 0.9148\n",
      "Epoch 17/150\n",
      "76/76 [==============================] - 0s 3ms/step - loss: 0.3696 - accuracy: 0.8778 - val_loss: 0.2604 - val_accuracy: 0.9148\n",
      "Epoch 18/150\n",
      "76/76 [==============================] - 0s 3ms/step - loss: 0.3639 - accuracy: 0.8827 - val_loss: 0.2591 - val_accuracy: 0.9185\n",
      "Epoch 19/150\n",
      "76/76 [==============================] - 0s 3ms/step - loss: 0.3485 - accuracy: 0.8872 - val_loss: 0.2463 - val_accuracy: 0.9222\n",
      "Epoch 20/150\n",
      "76/76 [==============================] - 0s 3ms/step - loss: 0.3359 - accuracy: 0.8864 - val_loss: 0.2361 - val_accuracy: 0.9296\n",
      "Epoch 21/150\n",
      "76/76 [==============================] - 0s 3ms/step - loss: 0.3361 - accuracy: 0.8909 - val_loss: 0.2433 - val_accuracy: 0.9259\n",
      "Epoch 22/150\n",
      "76/76 [==============================] - 0s 3ms/step - loss: 0.3148 - accuracy: 0.9016 - val_loss: 0.2376 - val_accuracy: 0.9296\n",
      "Epoch 23/150\n",
      "76/76 [==============================] - 0s 3ms/step - loss: 0.3078 - accuracy: 0.9016 - val_loss: 0.2342 - val_accuracy: 0.9259\n",
      "Epoch 24/150\n",
      "76/76 [==============================] - 0s 3ms/step - loss: 0.3108 - accuracy: 0.8963 - val_loss: 0.2291 - val_accuracy: 0.9222\n",
      "Epoch 25/150\n",
      "76/76 [==============================] - 0s 3ms/step - loss: 0.3047 - accuracy: 0.8967 - val_loss: 0.2339 - val_accuracy: 0.9370\n",
      "Epoch 26/150\n",
      "76/76 [==============================] - 0s 3ms/step - loss: 0.3049 - accuracy: 0.9004 - val_loss: 0.2231 - val_accuracy: 0.9296\n",
      "Epoch 27/150\n",
      "76/76 [==============================] - 0s 3ms/step - loss: 0.2753 - accuracy: 0.9103 - val_loss: 0.2194 - val_accuracy: 0.9222\n",
      "Epoch 28/150\n",
      "76/76 [==============================] - 0s 3ms/step - loss: 0.2760 - accuracy: 0.9066 - val_loss: 0.2273 - val_accuracy: 0.9333\n",
      "Epoch 29/150\n",
      "76/76 [==============================] - 0s 3ms/step - loss: 0.2664 - accuracy: 0.9132 - val_loss: 0.2291 - val_accuracy: 0.9333\n",
      "Epoch 30/150\n",
      "76/76 [==============================] - 0s 3ms/step - loss: 0.2742 - accuracy: 0.9136 - val_loss: 0.2138 - val_accuracy: 0.9296\n",
      "Epoch 31/150\n",
      "76/76 [==============================] - 0s 3ms/step - loss: 0.2629 - accuracy: 0.9198 - val_loss: 0.2209 - val_accuracy: 0.9296\n",
      "Epoch 32/150\n",
      "76/76 [==============================] - 0s 3ms/step - loss: 0.2325 - accuracy: 0.9222 - val_loss: 0.2179 - val_accuracy: 0.9296\n",
      "Epoch 33/150\n",
      "76/76 [==============================] - 0s 3ms/step - loss: 0.2432 - accuracy: 0.9230 - val_loss: 0.2052 - val_accuracy: 0.9333\n",
      "Epoch 34/150\n",
      "76/76 [==============================] - 0s 3ms/step - loss: 0.2508 - accuracy: 0.9160 - val_loss: 0.1952 - val_accuracy: 0.9370\n",
      "Epoch 35/150\n",
      "76/76 [==============================] - 0s 3ms/step - loss: 0.2363 - accuracy: 0.9189 - val_loss: 0.2030 - val_accuracy: 0.9407\n",
      "Epoch 36/150\n",
      "76/76 [==============================] - 0s 3ms/step - loss: 0.2463 - accuracy: 0.9202 - val_loss: 0.1995 - val_accuracy: 0.9333\n",
      "Epoch 37/150\n",
      "76/76 [==============================] - 0s 3ms/step - loss: 0.2187 - accuracy: 0.9284 - val_loss: 0.1958 - val_accuracy: 0.9407\n",
      "Epoch 38/150\n",
      "76/76 [==============================] - 0s 4ms/step - loss: 0.2250 - accuracy: 0.9276 - val_loss: 0.1922 - val_accuracy: 0.9333\n",
      "Epoch 39/150\n",
      "76/76 [==============================] - 0s 3ms/step - loss: 0.2380 - accuracy: 0.9239 - val_loss: 0.2020 - val_accuracy: 0.9407\n",
      "Epoch 40/150\n",
      "76/76 [==============================] - 0s 3ms/step - loss: 0.2201 - accuracy: 0.9210 - val_loss: 0.1896 - val_accuracy: 0.9407\n",
      "Epoch 41/150\n",
      "76/76 [==============================] - 0s 3ms/step - loss: 0.2320 - accuracy: 0.9267 - val_loss: 0.1974 - val_accuracy: 0.9407\n",
      "Epoch 42/150\n",
      "76/76 [==============================] - 0s 3ms/step - loss: 0.2202 - accuracy: 0.9230 - val_loss: 0.1976 - val_accuracy: 0.9370\n",
      "Epoch 43/150\n",
      "76/76 [==============================] - 0s 3ms/step - loss: 0.2100 - accuracy: 0.9288 - val_loss: 0.1935 - val_accuracy: 0.9407\n",
      "Epoch 44/150\n",
      "76/76 [==============================] - 0s 4ms/step - loss: 0.2142 - accuracy: 0.9267 - val_loss: 0.1805 - val_accuracy: 0.9444\n",
      "Epoch 45/150\n",
      "76/76 [==============================] - 0s 3ms/step - loss: 0.2139 - accuracy: 0.9292 - val_loss: 0.1874 - val_accuracy: 0.9444\n",
      "Epoch 46/150\n",
      "76/76 [==============================] - 0s 3ms/step - loss: 0.1929 - accuracy: 0.9350 - val_loss: 0.1916 - val_accuracy: 0.9370\n",
      "Epoch 47/150\n",
      "76/76 [==============================] - 0s 3ms/step - loss: 0.1964 - accuracy: 0.9321 - val_loss: 0.1818 - val_accuracy: 0.9481\n",
      "Epoch 48/150\n",
      "76/76 [==============================] - 0s 3ms/step - loss: 0.1990 - accuracy: 0.9325 - val_loss: 0.1864 - val_accuracy: 0.9370\n",
      "Epoch 49/150\n",
      "76/76 [==============================] - 0s 3ms/step - loss: 0.1742 - accuracy: 0.9403 - val_loss: 0.1841 - val_accuracy: 0.9370\n",
      "Epoch 50/150\n",
      "76/76 [==============================] - 0s 3ms/step - loss: 0.1727 - accuracy: 0.9424 - val_loss: 0.1703 - val_accuracy: 0.9370\n",
      "Epoch 51/150\n",
      "76/76 [==============================] - 0s 3ms/step - loss: 0.1858 - accuracy: 0.9412 - val_loss: 0.1752 - val_accuracy: 0.9407\n",
      "Epoch 52/150\n",
      "76/76 [==============================] - 0s 3ms/step - loss: 0.1912 - accuracy: 0.9346 - val_loss: 0.1865 - val_accuracy: 0.9407\n",
      "Epoch 53/150\n",
      "76/76 [==============================] - 0s 3ms/step - loss: 0.2039 - accuracy: 0.9321 - val_loss: 0.1816 - val_accuracy: 0.9481\n",
      "Epoch 54/150\n",
      "76/76 [==============================] - 0s 3ms/step - loss: 0.1900 - accuracy: 0.9350 - val_loss: 0.1789 - val_accuracy: 0.9444\n",
      "Epoch 55/150\n",
      "76/76 [==============================] - 0s 3ms/step - loss: 0.1810 - accuracy: 0.9383 - val_loss: 0.1835 - val_accuracy: 0.9407\n",
      "Epoch 56/150\n",
      "76/76 [==============================] - 0s 4ms/step - loss: 0.1903 - accuracy: 0.9395 - val_loss: 0.1840 - val_accuracy: 0.9370\n",
      "Epoch 57/150\n",
      "76/76 [==============================] - 0s 3ms/step - loss: 0.1806 - accuracy: 0.9366 - val_loss: 0.1757 - val_accuracy: 0.9407\n",
      "Epoch 58/150\n",
      "76/76 [==============================] - 0s 3ms/step - loss: 0.1510 - accuracy: 0.9514 - val_loss: 0.1752 - val_accuracy: 0.9444\n"
     ]
    },
    {
     "name": "stdout",
     "output_type": "stream",
     "text": [
      "Epoch 59/150\n",
      "76/76 [==============================] - 0s 3ms/step - loss: 0.1621 - accuracy: 0.9449 - val_loss: 0.1779 - val_accuracy: 0.9370\n",
      "Epoch 60/150\n",
      "76/76 [==============================] - 0s 3ms/step - loss: 0.1729 - accuracy: 0.9403 - val_loss: 0.1751 - val_accuracy: 0.9444\n",
      "Epoch 61/150\n",
      "76/76 [==============================] - 0s 3ms/step - loss: 0.1606 - accuracy: 0.9407 - val_loss: 0.1719 - val_accuracy: 0.9481\n",
      "Epoch 62/150\n",
      "76/76 [==============================] - 0s 3ms/step - loss: 0.1618 - accuracy: 0.9494 - val_loss: 0.1915 - val_accuracy: 0.9333\n",
      "Epoch 63/150\n",
      "76/76 [==============================] - 0s 3ms/step - loss: 0.1622 - accuracy: 0.9449 - val_loss: 0.1896 - val_accuracy: 0.9370\n",
      "Epoch 64/150\n",
      "76/76 [==============================] - 0s 3ms/step - loss: 0.1673 - accuracy: 0.9395 - val_loss: 0.1764 - val_accuracy: 0.9444\n",
      "Epoch 65/150\n",
      "76/76 [==============================] - 0s 3ms/step - loss: 0.1628 - accuracy: 0.9490 - val_loss: 0.1841 - val_accuracy: 0.9370\n",
      "Epoch 66/150\n",
      "76/76 [==============================] - 0s 3ms/step - loss: 0.1800 - accuracy: 0.9379 - val_loss: 0.1786 - val_accuracy: 0.9407\n",
      "Epoch 67/150\n",
      "76/76 [==============================] - 0s 3ms/step - loss: 0.1524 - accuracy: 0.9473 - val_loss: 0.1765 - val_accuracy: 0.9407\n",
      "Epoch 68/150\n",
      "76/76 [==============================] - 0s 3ms/step - loss: 0.1472 - accuracy: 0.9556 - val_loss: 0.1743 - val_accuracy: 0.9444\n",
      "Epoch 69/150\n",
      "76/76 [==============================] - 0s 3ms/step - loss: 0.1270 - accuracy: 0.9576 - val_loss: 0.1724 - val_accuracy: 0.9407\n",
      "Epoch 70/150\n",
      "76/76 [==============================] - 0s 3ms/step - loss: 0.1317 - accuracy: 0.9556 - val_loss: 0.1767 - val_accuracy: 0.9370\n",
      "Epoch 71/150\n",
      "76/76 [==============================] - 0s 3ms/step - loss: 0.1478 - accuracy: 0.9514 - val_loss: 0.1774 - val_accuracy: 0.9444\n",
      "Epoch 72/150\n",
      "76/76 [==============================] - 0s 3ms/step - loss: 0.1579 - accuracy: 0.9436 - val_loss: 0.1718 - val_accuracy: 0.9370\n",
      "Epoch 73/150\n",
      "76/76 [==============================] - 0s 3ms/step - loss: 0.1477 - accuracy: 0.9514 - val_loss: 0.1704 - val_accuracy: 0.9407\n",
      "Epoch 74/150\n",
      "76/76 [==============================] - 0s 3ms/step - loss: 0.1452 - accuracy: 0.9531 - val_loss: 0.1680 - val_accuracy: 0.9481\n",
      "Epoch 75/150\n",
      "76/76 [==============================] - 0s 3ms/step - loss: 0.1527 - accuracy: 0.9547 - val_loss: 0.1809 - val_accuracy: 0.9370\n",
      "Epoch 76/150\n",
      "76/76 [==============================] - 0s 3ms/step - loss: 0.1477 - accuracy: 0.9481 - val_loss: 0.1749 - val_accuracy: 0.9481\n",
      "Epoch 77/150\n",
      "76/76 [==============================] - 0s 3ms/step - loss: 0.1433 - accuracy: 0.9449 - val_loss: 0.1715 - val_accuracy: 0.9444\n",
      "Epoch 78/150\n",
      "76/76 [==============================] - 0s 3ms/step - loss: 0.1207 - accuracy: 0.9576 - val_loss: 0.1716 - val_accuracy: 0.9407\n",
      "Epoch 79/150\n",
      "76/76 [==============================] - 0s 3ms/step - loss: 0.1420 - accuracy: 0.9490 - val_loss: 0.1645 - val_accuracy: 0.9519\n",
      "Epoch 80/150\n",
      "76/76 [==============================] - 0s 3ms/step - loss: 0.1341 - accuracy: 0.9543 - val_loss: 0.1697 - val_accuracy: 0.9444\n",
      "Epoch 81/150\n",
      "76/76 [==============================] - 0s 3ms/step - loss: 0.1365 - accuracy: 0.9556 - val_loss: 0.1709 - val_accuracy: 0.9407\n",
      "Epoch 82/150\n",
      "76/76 [==============================] - 0s 3ms/step - loss: 0.1265 - accuracy: 0.9547 - val_loss: 0.1697 - val_accuracy: 0.9481\n",
      "Epoch 83/150\n",
      "76/76 [==============================] - 0s 3ms/step - loss: 0.1409 - accuracy: 0.9502 - val_loss: 0.1772 - val_accuracy: 0.9481\n",
      "Epoch 84/150\n",
      "76/76 [==============================] - 0s 3ms/step - loss: 0.1336 - accuracy: 0.9580 - val_loss: 0.1611 - val_accuracy: 0.9556\n",
      "Epoch 85/150\n",
      "76/76 [==============================] - 0s 3ms/step - loss: 0.1265 - accuracy: 0.9597 - val_loss: 0.1681 - val_accuracy: 0.9519\n",
      "Epoch 86/150\n",
      "76/76 [==============================] - 0s 3ms/step - loss: 0.1173 - accuracy: 0.9597 - val_loss: 0.1648 - val_accuracy: 0.9444\n",
      "Epoch 87/150\n",
      "76/76 [==============================] - 0s 3ms/step - loss: 0.1378 - accuracy: 0.9551 - val_loss: 0.1639 - val_accuracy: 0.9444\n",
      "Epoch 88/150\n",
      "76/76 [==============================] - 0s 3ms/step - loss: 0.1357 - accuracy: 0.9551 - val_loss: 0.1683 - val_accuracy: 0.9481\n",
      "Epoch 89/150\n",
      "76/76 [==============================] - 0s 3ms/step - loss: 0.1421 - accuracy: 0.9486 - val_loss: 0.1740 - val_accuracy: 0.9444\n",
      "Epoch 90/150\n",
      "76/76 [==============================] - 0s 5ms/step - loss: 0.1269 - accuracy: 0.9547 - val_loss: 0.1557 - val_accuracy: 0.9519\n",
      "Epoch 91/150\n",
      "76/76 [==============================] - 0s 3ms/step - loss: 0.1303 - accuracy: 0.9588 - val_loss: 0.1548 - val_accuracy: 0.9519\n",
      "Epoch 92/150\n",
      "76/76 [==============================] - 0s 3ms/step - loss: 0.1320 - accuracy: 0.9560 - val_loss: 0.1728 - val_accuracy: 0.9370\n",
      "Epoch 93/150\n",
      "76/76 [==============================] - 0s 3ms/step - loss: 0.1316 - accuracy: 0.9576 - val_loss: 0.1755 - val_accuracy: 0.9370\n",
      "Epoch 94/150\n",
      "76/76 [==============================] - 0s 3ms/step - loss: 0.1161 - accuracy: 0.9597 - val_loss: 0.1785 - val_accuracy: 0.9481\n",
      "Epoch 95/150\n",
      "76/76 [==============================] - 0s 3ms/step - loss: 0.1151 - accuracy: 0.9626 - val_loss: 0.1640 - val_accuracy: 0.9407\n",
      "Epoch 96/150\n",
      "76/76 [==============================] - 0s 3ms/step - loss: 0.1014 - accuracy: 0.9671 - val_loss: 0.1673 - val_accuracy: 0.9519\n",
      "Epoch 97/150\n",
      "76/76 [==============================] - 0s 3ms/step - loss: 0.1104 - accuracy: 0.9646 - val_loss: 0.1739 - val_accuracy: 0.9444\n",
      "Epoch 98/150\n",
      "76/76 [==============================] - 0s 3ms/step - loss: 0.1204 - accuracy: 0.9588 - val_loss: 0.1695 - val_accuracy: 0.9370\n",
      "Epoch 99/150\n",
      "76/76 [==============================] - 0s 4ms/step - loss: 0.1175 - accuracy: 0.9617 - val_loss: 0.1661 - val_accuracy: 0.9444\n",
      "Epoch 100/150\n",
      "76/76 [==============================] - 0s 4ms/step - loss: 0.1167 - accuracy: 0.9630 - val_loss: 0.1642 - val_accuracy: 0.9481\n",
      "Epoch 101/150\n",
      "76/76 [==============================] - 0s 3ms/step - loss: 0.1253 - accuracy: 0.9580 - val_loss: 0.1714 - val_accuracy: 0.9481\n",
      "Epoch 102/150\n",
      "76/76 [==============================] - 0s 4ms/step - loss: 0.1185 - accuracy: 0.9593 - val_loss: 0.1779 - val_accuracy: 0.9407\n",
      "Epoch 103/150\n",
      "76/76 [==============================] - 0s 3ms/step - loss: 0.1172 - accuracy: 0.9638 - val_loss: 0.1619 - val_accuracy: 0.9444\n",
      "Epoch 104/150\n",
      "76/76 [==============================] - 0s 4ms/step - loss: 0.1185 - accuracy: 0.9642 - val_loss: 0.1599 - val_accuracy: 0.9519\n",
      "Epoch 105/150\n",
      "76/76 [==============================] - 0s 3ms/step - loss: 0.1118 - accuracy: 0.9601 - val_loss: 0.1660 - val_accuracy: 0.9444\n",
      "Epoch 106/150\n",
      "76/76 [==============================] - 0s 3ms/step - loss: 0.0913 - accuracy: 0.9737 - val_loss: 0.1585 - val_accuracy: 0.9556\n",
      "Epoch 107/150\n",
      "76/76 [==============================] - 0s 4ms/step - loss: 0.1185 - accuracy: 0.9588 - val_loss: 0.1584 - val_accuracy: 0.9556\n",
      "Epoch 108/150\n",
      "76/76 [==============================] - 0s 3ms/step - loss: 0.1129 - accuracy: 0.9601 - val_loss: 0.1838 - val_accuracy: 0.9519\n",
      "Epoch 109/150\n",
      "76/76 [==============================] - 0s 4ms/step - loss: 0.1080 - accuracy: 0.9621 - val_loss: 0.1771 - val_accuracy: 0.9444\n",
      "Epoch 110/150\n",
      "76/76 [==============================] - 0s 4ms/step - loss: 0.1033 - accuracy: 0.9638 - val_loss: 0.1712 - val_accuracy: 0.9519\n",
      "Epoch 111/150\n",
      "76/76 [==============================] - 0s 3ms/step - loss: 0.1001 - accuracy: 0.9650 - val_loss: 0.1525 - val_accuracy: 0.9519\n",
      "Epoch 112/150\n",
      "76/76 [==============================] - 0s 4ms/step - loss: 0.1045 - accuracy: 0.9683 - val_loss: 0.1682 - val_accuracy: 0.9444\n",
      "Epoch 113/150\n",
      "76/76 [==============================] - 0s 3ms/step - loss: 0.1184 - accuracy: 0.9572 - val_loss: 0.1551 - val_accuracy: 0.9481\n",
      "Epoch 114/150\n",
      "76/76 [==============================] - 0s 4ms/step - loss: 0.1044 - accuracy: 0.9667 - val_loss: 0.1674 - val_accuracy: 0.9444\n",
      "Epoch 115/150\n",
      "76/76 [==============================] - 0s 3ms/step - loss: 0.0924 - accuracy: 0.9675 - val_loss: 0.1727 - val_accuracy: 0.9444\n",
      "Epoch 116/150\n",
      "76/76 [==============================] - 0s 3ms/step - loss: 0.1047 - accuracy: 0.9609 - val_loss: 0.1626 - val_accuracy: 0.9481\n",
      "Epoch 117/150\n",
      "76/76 [==============================] - 0s 4ms/step - loss: 0.1156 - accuracy: 0.9605 - val_loss: 0.1629 - val_accuracy: 0.9481\n",
      "Epoch 118/150\n",
      "76/76 [==============================] - 0s 3ms/step - loss: 0.1025 - accuracy: 0.9642 - val_loss: 0.1629 - val_accuracy: 0.9444\n",
      "Epoch 119/150\n",
      "76/76 [==============================] - 0s 4ms/step - loss: 0.1073 - accuracy: 0.9601 - val_loss: 0.1745 - val_accuracy: 0.9407\n",
      "Epoch 120/150\n",
      "76/76 [==============================] - 0s 3ms/step - loss: 0.1265 - accuracy: 0.9588 - val_loss: 0.1669 - val_accuracy: 0.9407\n",
      "Epoch 121/150\n",
      "76/76 [==============================] - 0s 4ms/step - loss: 0.0922 - accuracy: 0.9704 - val_loss: 0.1632 - val_accuracy: 0.9481\n",
      "Epoch 122/150\n",
      "76/76 [==============================] - 0s 4ms/step - loss: 0.1001 - accuracy: 0.9683 - val_loss: 0.1620 - val_accuracy: 0.9519\n",
      "Epoch 123/150\n",
      "76/76 [==============================] - 0s 3ms/step - loss: 0.1086 - accuracy: 0.9613 - val_loss: 0.1502 - val_accuracy: 0.9519\n",
      "Epoch 124/150\n",
      "76/76 [==============================] - 0s 4ms/step - loss: 0.1038 - accuracy: 0.9634 - val_loss: 0.1500 - val_accuracy: 0.9519\n",
      "Epoch 125/150\n",
      "76/76 [==============================] - 0s 3ms/step - loss: 0.0962 - accuracy: 0.9695 - val_loss: 0.1501 - val_accuracy: 0.9407\n",
      "Epoch 126/150\n",
      "76/76 [==============================] - 0s 4ms/step - loss: 0.0947 - accuracy: 0.9687 - val_loss: 0.1718 - val_accuracy: 0.9444\n",
      "Epoch 127/150\n",
      "76/76 [==============================] - 0s 4ms/step - loss: 0.1076 - accuracy: 0.9646 - val_loss: 0.1424 - val_accuracy: 0.9519\n",
      "Epoch 128/150\n",
      "76/76 [==============================] - 0s 3ms/step - loss: 0.0937 - accuracy: 0.9683 - val_loss: 0.1443 - val_accuracy: 0.9556\n",
      "Epoch 129/150\n",
      "76/76 [==============================] - 0s 4ms/step - loss: 0.1042 - accuracy: 0.9654 - val_loss: 0.1368 - val_accuracy: 0.9556\n",
      "Epoch 130/150\n",
      "76/76 [==============================] - 0s 3ms/step - loss: 0.0804 - accuracy: 0.9737 - val_loss: 0.1420 - val_accuracy: 0.9556\n",
      "Epoch 131/150\n",
      "76/76 [==============================] - 0s 4ms/step - loss: 0.1108 - accuracy: 0.9601 - val_loss: 0.1543 - val_accuracy: 0.9444\n",
      "Epoch 132/150\n",
      "76/76 [==============================] - 0s 3ms/step - loss: 0.0954 - accuracy: 0.9654 - val_loss: 0.1614 - val_accuracy: 0.9481\n",
      "Epoch 133/150\n",
      "76/76 [==============================] - 0s 3ms/step - loss: 0.0915 - accuracy: 0.9728 - val_loss: 0.1511 - val_accuracy: 0.9481\n",
      "Epoch 134/150\n",
      "76/76 [==============================] - 0s 4ms/step - loss: 0.1111 - accuracy: 0.9646 - val_loss: 0.1732 - val_accuracy: 0.9519\n",
      "Epoch 135/150\n",
      "76/76 [==============================] - 0s 4ms/step - loss: 0.0923 - accuracy: 0.9683 - val_loss: 0.1489 - val_accuracy: 0.9519\n",
      "Epoch 136/150\n",
      "76/76 [==============================] - 0s 4ms/step - loss: 0.1015 - accuracy: 0.9654 - val_loss: 0.1647 - val_accuracy: 0.9519\n",
      "Epoch 137/150\n",
      "76/76 [==============================] - 0s 3ms/step - loss: 0.0969 - accuracy: 0.9663 - val_loss: 0.1454 - val_accuracy: 0.9556\n",
      "Epoch 138/150\n",
      "76/76 [==============================] - 0s 4ms/step - loss: 0.0835 - accuracy: 0.9708 - val_loss: 0.1568 - val_accuracy: 0.9519\n",
      "Epoch 139/150\n",
      "76/76 [==============================] - 0s 3ms/step - loss: 0.0992 - accuracy: 0.9654 - val_loss: 0.1620 - val_accuracy: 0.9444\n",
      "Epoch 140/150\n",
      "76/76 [==============================] - 0s 3ms/step - loss: 0.1025 - accuracy: 0.9626 - val_loss: 0.1553 - val_accuracy: 0.9556\n",
      "Epoch 141/150\n",
      "76/76 [==============================] - 0s 4ms/step - loss: 0.0932 - accuracy: 0.9683 - val_loss: 0.1594 - val_accuracy: 0.9556\n",
      "Epoch 142/150\n",
      "76/76 [==============================] - 0s 3ms/step - loss: 0.0843 - accuracy: 0.9712 - val_loss: 0.1554 - val_accuracy: 0.9519\n",
      "Epoch 143/150\n",
      "76/76 [==============================] - 0s 4ms/step - loss: 0.0826 - accuracy: 0.9737 - val_loss: 0.1744 - val_accuracy: 0.9519\n",
      "Epoch 144/150\n",
      "76/76 [==============================] - 0s 3ms/step - loss: 0.0858 - accuracy: 0.9720 - val_loss: 0.1546 - val_accuracy: 0.9519\n",
      "Epoch 145/150\n",
      "76/76 [==============================] - 0s 3ms/step - loss: 0.0954 - accuracy: 0.9691 - val_loss: 0.1437 - val_accuracy: 0.9556\n",
      "Epoch 146/150\n",
      "76/76 [==============================] - 0s 4ms/step - loss: 0.0915 - accuracy: 0.9720 - val_loss: 0.1498 - val_accuracy: 0.9593\n",
      "Epoch 147/150\n",
      "76/76 [==============================] - 0s 3ms/step - loss: 0.0837 - accuracy: 0.9691 - val_loss: 0.1457 - val_accuracy: 0.9556\n",
      "Epoch 148/150\n",
      "76/76 [==============================] - 0s 4ms/step - loss: 0.0797 - accuracy: 0.9695 - val_loss: 0.1443 - val_accuracy: 0.9704\n",
      "Epoch 149/150\n",
      "76/76 [==============================] - 0s 3ms/step - loss: 0.0865 - accuracy: 0.9704 - val_loss: 0.1500 - val_accuracy: 0.9630\n",
      "Epoch 150/150\n",
      "76/76 [==============================] - 0s 3ms/step - loss: 0.0926 - accuracy: 0.9667 - val_loss: 0.1647 - val_accuracy: 0.9556\n"
     ]
    }
   ],
   "source": [
    "history = model.fit(X_trainn, y_trainn, epochs=150,\n",
    "                    validation_data=(X_val, y_val))\n"
   ]
  },
  {
   "cell_type": "code",
   "execution_count": 169,
   "id": "3e5642f5",
   "metadata": {},
   "outputs": [
    {
     "data": {
      "image/png": "[encoded data removed]",
      "text/plain": [
       "<Figure size 576x360 with 1 Axes>"
      ]
     },
     "metadata": {
      "needs_background": "light"
     },
     "output_type": "display_data"
    }
   ],
   "source": [
    "pd.DataFrame(history.history).plot(figsize=(8, 5))\n",
    "plt.grid(True)\n",
    "plt.gca().set_ylim(0,2) # set the vertical range to [0-1]\n",
    "plt.show()"
   ]
  },
  {
   "cell_type": "code",
   "execution_count": 170,
   "id": "c841857b",
   "metadata": {},
   "outputs": [
    {
     "name": "stdout",
     "output_type": "stream",
     "text": [
      "10/10 [==============================] - 0s 2ms/step - loss: 0.1670 - accuracy: 0.9633\n"
     ]
    },
    {
     "data": {
      "text/plain": [
       "[0.16701318323612213, 0.9633333086967468]"
      ]
     },
     "execution_count": 170,
     "metadata": {},
     "output_type": "execute_result"
    }
   ],
   "source": [
    "model.evaluate(X_test, y_test)"
   ]
  },
  {
   "cell_type": "markdown",
   "id": "f48b61b4",
   "metadata": {},
   "source": [
    "# Mislassified observations - PCA"
   ]
  },
  {
   "cell_type": "code",
   "execution_count": 171,
   "id": "58e2ec44",
   "metadata": {},
   "outputs": [
    {
     "name": "stdout",
     "output_type": "stream",
     "text": [
      "1/1 [==============================] - 0s 54ms/step\n",
      "1/1 [==============================] - 0s 18ms/step\n",
      "1/1 [==============================] - 0s 20ms/step\n",
      "1/1 [==============================] - 0s 18ms/step\n",
      "1/1 [==============================] - 0s 19ms/step\n",
      "1/1 [==============================] - 0s 18ms/step\n",
      "1/1 [==============================] - 0s 19ms/step\n",
      "1/1 [==============================] - 0s 18ms/step\n",
      "1/1 [==============================] - 0s 18ms/step\n",
      "1/1 [==============================] - 0s 19ms/step\n",
      "1/1 [==============================] - 0s 19ms/step\n",
      "1/1 [==============================] - 0s 19ms/step\n",
      "1/1 [==============================] - 0s 18ms/step\n",
      "1/1 [==============================] - 0s 18ms/step\n",
      "1/1 [==============================] - 0s 18ms/step\n",
      "1/1 [==============================] - 0s 18ms/step\n",
      "1/1 [==============================] - 0s 18ms/step\n",
      "1/1 [==============================] - 0s 18ms/step\n",
      "1/1 [==============================] - 0s 17ms/step\n",
      "1/1 [==============================] - 0s 20ms/step\n",
      "1/1 [==============================] - 0s 19ms/step\n",
      "1/1 [==============================] - 0s 19ms/step\n",
      "1/1 [==============================] - 0s 24ms/step\n",
      "1/1 [==============================] - 0s 20ms/step\n",
      "1/1 [==============================] - 0s 19ms/step\n",
      "1/1 [==============================] - 0s 18ms/step\n",
      "1/1 [==============================] - 0s 18ms/step\n",
      "1/1 [==============================] - 0s 18ms/step\n",
      "1/1 [==============================] - 0s 20ms/step\n",
      "1/1 [==============================] - 0s 21ms/step\n",
      "1/1 [==============================] - 0s 19ms/step\n",
      "1/1 [==============================] - 0s 19ms/step\n",
      "1/1 [==============================] - 0s 18ms/step\n",
      "1/1 [==============================] - 0s 19ms/step\n",
      "1/1 [==============================] - 0s 19ms/step\n",
      "1/1 [==============================] - 0s 20ms/step\n",
      "1/1 [==============================] - 0s 22ms/step\n",
      "1/1 [==============================] - 0s 20ms/step\n",
      "1/1 [==============================] - 0s 21ms/step\n",
      "1/1 [==============================] - 0s 20ms/step\n",
      "1/1 [==============================] - 0s 20ms/step\n",
      "1/1 [==============================] - 0s 22ms/step\n",
      "1/1 [==============================] - 0s 18ms/step\n",
      "1/1 [==============================] - 0s 18ms/step\n",
      "1/1 [==============================] - 0s 19ms/step\n",
      "1/1 [==============================] - 0s 19ms/step\n",
      "1/1 [==============================] - 0s 18ms/step\n",
      "1/1 [==============================] - 0s 19ms/step\n",
      "1/1 [==============================] - 0s 18ms/step\n",
      "1/1 [==============================] - 0s 18ms/step\n",
      "1/1 [==============================] - 0s 18ms/step\n",
      "1/1 [==============================] - 0s 19ms/step\n",
      "1/1 [==============================] - 0s 18ms/step\n",
      "1/1 [==============================] - 0s 19ms/step\n",
      "1/1 [==============================] - 0s 18ms/step\n",
      "1/1 [==============================] - 0s 16ms/step\n",
      "1/1 [==============================] - 0s 18ms/step\n",
      "1/1 [==============================] - 0s 18ms/step\n",
      "1/1 [==============================] - 0s 17ms/step\n",
      "1/1 [==============================] - 0s 4ms/step\n",
      "1/1 [==============================] - 0s 18ms/step\n",
      "1/1 [==============================] - 0s 18ms/step\n",
      "1/1 [==============================] - 0s 19ms/step\n",
      "1/1 [==============================] - 0s 16ms/step\n",
      "1/1 [==============================] - 0s 18ms/step\n",
      "1/1 [==============================] - 0s 21ms/step\n",
      "1/1 [==============================] - 0s 18ms/step\n",
      "1/1 [==============================] - 0s 19ms/step\n",
      "1/1 [==============================] - 0s 18ms/step\n",
      "1/1 [==============================] - 0s 18ms/step\n",
      "1/1 [==============================] - 0s 17ms/step\n",
      "1/1 [==============================] - 0s 4ms/step\n",
      "1/1 [==============================] - 0s 18ms/step\n",
      "1/1 [==============================] - 0s 18ms/step\n",
      "1/1 [==============================] - 0s 17ms/step\n",
      "1/1 [==============================] - 0s 17ms/step\n",
      "1/1 [==============================] - 0s 16ms/step\n",
      "1/1 [==============================] - 0s 17ms/step\n",
      "1/1 [==============================] - 0s 18ms/step\n",
      "1/1 [==============================] - 0s 16ms/step\n",
      "1/1 [==============================] - 0s 16ms/step\n",
      "1/1 [==============================] - 0s 16ms/step\n",
      "1/1 [==============================] - 0s 19ms/step\n",
      "1/1 [==============================] - 0s 16ms/step\n",
      "1/1 [==============================] - 0s 18ms/step\n",
      "1/1 [==============================] - 0s 18ms/step\n",
      "1/1 [==============================] - 0s 19ms/step\n",
      "1/1 [==============================] - 0s 19ms/step\n",
      "1/1 [==============================] - 0s 18ms/step\n",
      "1/1 [==============================] - 0s 18ms/step\n",
      "1/1 [==============================] - 0s 17ms/step\n",
      "1/1 [==============================] - 0s 19ms/step\n",
      "1/1 [==============================] - 0s 19ms/step\n",
      "1/1 [==============================] - 0s 19ms/step\n",
      "1/1 [==============================] - 0s 17ms/step\n",
      "1/1 [==============================] - 0s 6ms/step\n",
      "1/1 [==============================] - 0s 33ms/step\n",
      "1/1 [==============================] - 0s 18ms/step\n",
      "1/1 [==============================] - 0s 18ms/step\n",
      "1/1 [==============================] - 0s 20ms/step\n",
      "1/1 [==============================] - 0s 20ms/step\n",
      "1/1 [==============================] - 0s 20ms/step\n",
      "1/1 [==============================] - 0s 20ms/step\n",
      "1/1 [==============================] - 0s 17ms/step\n",
      "1/1 [==============================] - 0s 18ms/step\n",
      "1/1 [==============================] - 0s 18ms/step\n",
      "1/1 [==============================] - 0s 21ms/step\n",
      "1/1 [==============================] - 0s 19ms/step\n",
      "1/1 [==============================] - 0s 18ms/step\n",
      "1/1 [==============================] - 0s 19ms/step\n",
      "1/1 [==============================] - 0s 20ms/step\n",
      "1/1 [==============================] - 0s 19ms/step\n",
      "1/1 [==============================] - 0s 19ms/step\n",
      "1/1 [==============================] - 0s 18ms/step\n",
      "1/1 [==============================] - 0s 19ms/step\n",
      "1/1 [==============================] - 0s 18ms/step\n",
      "1/1 [==============================] - 0s 18ms/step\n",
      "1/1 [==============================] - 0s 18ms/step\n",
      "1/1 [==============================] - 0s 18ms/step\n",
      "1/1 [==============================] - 0s 8ms/step\n",
      "1/1 [==============================] - 0s 18ms/step\n",
      "1/1 [==============================] - 0s 17ms/step\n",
      "1/1 [==============================] - 0s 18ms/step\n",
      "1/1 [==============================] - 0s 17ms/step\n",
      "1/1 [==============================] - 0s 18ms/step\n",
      "1/1 [==============================] - 0s 19ms/step\n",
      "1/1 [==============================] - 0s 18ms/step\n",
      "1/1 [==============================] - 0s 19ms/step\n",
      "1/1 [==============================] - 0s 18ms/step\n",
      "1/1 [==============================] - 0s 18ms/step\n",
      "1/1 [==============================] - 0s 18ms/step\n",
      "1/1 [==============================] - 0s 18ms/step\n",
      "1/1 [==============================] - 0s 18ms/step\n",
      "1/1 [==============================] - 0s 19ms/step\n",
      "1/1 [==============================] - 0s 18ms/step\n",
      "1/1 [==============================] - 0s 18ms/step\n",
      "1/1 [==============================] - 0s 18ms/step\n",
      "1/1 [==============================] - 0s 10ms/step\n",
      "1/1 [==============================] - 0s 18ms/step\n",
      "1/1 [==============================] - 0s 17ms/step\n",
      "1/1 [==============================] - 0s 17ms/step\n",
      "1/1 [==============================] - 0s 17ms/step\n",
      "1/1 [==============================] - 0s 17ms/step\n",
      "1/1 [==============================] - 0s 19ms/step\n",
      "1/1 [==============================] - 0s 17ms/step\n",
      "1/1 [==============================] - 0s 18ms/step\n",
      "1/1 [==============================] - 0s 17ms/step\n",
      "1/1 [==============================] - 0s 18ms/step\n",
      "1/1 [==============================] - 0s 18ms/step\n",
      "1/1 [==============================] - 0s 18ms/step\n",
      "1/1 [==============================] - 0s 18ms/step\n",
      "1/1 [==============================] - 0s 18ms/step\n",
      "1/1 [==============================] - 0s 18ms/step\n",
      "1/1 [==============================] - 0s 17ms/step\n",
      "1/1 [==============================] - 0s 4ms/step\n",
      "1/1 [==============================] - 0s 19ms/step\n",
      "1/1 [==============================] - 0s 18ms/step\n",
      "1/1 [==============================] - 0s 18ms/step\n",
      "1/1 [==============================] - 0s 18ms/step\n",
      "1/1 [==============================] - 0s 18ms/step\n",
      "1/1 [==============================] - 0s 18ms/step\n",
      "1/1 [==============================] - 0s 18ms/step\n",
      "1/1 [==============================] - 0s 17ms/step\n",
      "1/1 [==============================] - 0s 19ms/step\n",
      "1/1 [==============================] - 0s 17ms/step\n",
      "1/1 [==============================] - 0s 18ms/step\n",
      "1/1 [==============================] - 0s 19ms/step\n",
      "1/1 [==============================] - 0s 42ms/step\n",
      "1/1 [==============================] - 0s 18ms/step\n",
      "1/1 [==============================] - 0s 18ms/step\n",
      "1/1 [==============================] - 0s 18ms/step\n",
      "1/1 [==============================] - 0s 16ms/step\n",
      "1/1 [==============================] - 0s 32ms/step\n",
      "1/1 [==============================] - 0s 17ms/step\n",
      "1/1 [==============================] - 0s 16ms/step\n",
      "1/1 [==============================] - 0s 17ms/step\n",
      "1/1 [==============================] - 0s 18ms/step\n",
      "1/1 [==============================] - 0s 12ms/step\n",
      "1/1 [==============================] - 0s 19ms/step\n",
      "1/1 [==============================] - 0s 19ms/step\n",
      "1/1 [==============================] - 0s 19ms/step\n",
      "1/1 [==============================] - 0s 18ms/step\n",
      "1/1 [==============================] - 0s 18ms/step\n",
      "1/1 [==============================] - 0s 16ms/step\n",
      "1/1 [==============================] - 0s 19ms/step\n",
      "1/1 [==============================] - 0s 17ms/step\n",
      "1/1 [==============================] - 0s 18ms/step\n",
      "1/1 [==============================] - 0s 19ms/step\n",
      "1/1 [==============================] - 0s 18ms/step\n",
      "1/1 [==============================] - 0s 19ms/step\n",
      "1/1 [==============================] - 0s 18ms/step\n",
      "1/1 [==============================] - 0s 18ms/step\n",
      "1/1 [==============================] - 0s 18ms/step\n",
      "1/1 [==============================] - 0s 18ms/step\n",
      "1/1 [==============================] - 0s 18ms/step\n",
      "1/1 [==============================] - 0s 20ms/step\n",
      "1/1 [==============================] - 0s 19ms/step\n",
      "1/1 [==============================] - 0s 19ms/step\n",
      "1/1 [==============================] - 0s 39ms/step\n",
      "1/1 [==============================] - 0s 24ms/step\n",
      "1/1 [==============================] - 0s 10ms/step\n",
      "1/1 [==============================] - 0s 19ms/step\n",
      "1/1 [==============================] - 0s 17ms/step\n",
      "1/1 [==============================] - 0s 18ms/step\n",
      "1/1 [==============================] - 0s 19ms/step\n",
      "1/1 [==============================] - 0s 16ms/step\n",
      "1/1 [==============================] - 0s 8ms/step\n",
      "1/1 [==============================] - 0s 21ms/step\n",
      "1/1 [==============================] - 0s 21ms/step\n",
      "1/1 [==============================] - 0s 18ms/step\n",
      "1/1 [==============================] - 0s 19ms/step\n",
      "1/1 [==============================] - 0s 17ms/step\n",
      "1/1 [==============================] - 0s 18ms/step\n",
      "1/1 [==============================] - 0s 18ms/step\n",
      "1/1 [==============================] - 0s 13ms/step\n",
      "1/1 [==============================] - 0s 19ms/step\n",
      "1/1 [==============================] - 0s 31ms/step\n",
      "1/1 [==============================] - 0s 15ms/step\n",
      "1/1 [==============================] - 0s 17ms/step\n",
      "1/1 [==============================] - 0s 18ms/step\n",
      "1/1 [==============================] - 0s 18ms/step\n",
      "1/1 [==============================] - 0s 9ms/step\n",
      "1/1 [==============================] - 0s 16ms/step\n",
      "1/1 [==============================] - 0s 18ms/step\n",
      "1/1 [==============================] - 0s 18ms/step\n",
      "1/1 [==============================] - 0s 19ms/step\n",
      "1/1 [==============================] - 0s 18ms/step\n",
      "1/1 [==============================] - 0s 19ms/step\n",
      "1/1 [==============================] - 0s 17ms/step\n",
      "1/1 [==============================] - 0s 19ms/step\n",
      "1/1 [==============================] - 0s 19ms/step\n",
      "1/1 [==============================] - 0s 18ms/step\n",
      "1/1 [==============================] - 0s 18ms/step\n",
      "1/1 [==============================] - 0s 18ms/step\n",
      "1/1 [==============================] - 0s 19ms/step\n",
      "1/1 [==============================] - 0s 19ms/step\n",
      "1/1 [==============================] - 0s 20ms/step\n",
      "1/1 [==============================] - 0s 17ms/step\n",
      "1/1 [==============================] - 0s 18ms/step\n",
      "1/1 [==============================] - 0s 12ms/step\n",
      "1/1 [==============================] - 0s 9ms/step\n",
      "1/1 [==============================] - 0s 17ms/step\n",
      "1/1 [==============================] - 0s 17ms/step\n",
      "1/1 [==============================] - 0s 18ms/step\n",
      "1/1 [==============================] - 0s 18ms/step\n",
      "1/1 [==============================] - 0s 18ms/step\n",
      "1/1 [==============================] - 0s 17ms/step\n",
      "1/1 [==============================] - 0s 18ms/step\n",
      "1/1 [==============================] - 0s 18ms/step\n",
      "1/1 [==============================] - 0s 8ms/step\n",
      "1/1 [==============================] - 0s 18ms/step\n",
      "1/1 [==============================] - 0s 18ms/step\n",
      "1/1 [==============================] - 0s 18ms/step\n",
      "1/1 [==============================] - 0s 18ms/step\n",
      "1/1 [==============================] - 0s 18ms/step\n",
      "1/1 [==============================] - 0s 18ms/step\n",
      "1/1 [==============================] - 0s 18ms/step\n",
      "1/1 [==============================] - 0s 16ms/step\n",
      "1/1 [==============================] - 0s 12ms/step\n",
      "1/1 [==============================] - 0s 17ms/step\n",
      "1/1 [==============================] - 0s 17ms/step\n",
      "1/1 [==============================] - 0s 18ms/step\n",
      "1/1 [==============================] - 0s 18ms/step\n",
      "1/1 [==============================] - 0s 15ms/step\n",
      "1/1 [==============================] - 0s 15ms/step\n",
      "1/1 [==============================] - 0s 6ms/step\n",
      "1/1 [==============================] - 0s 33ms/step\n",
      "1/1 [==============================] - 0s 19ms/step\n",
      "1/1 [==============================] - 0s 18ms/step\n",
      "1/1 [==============================] - 0s 18ms/step\n",
      "1/1 [==============================] - 0s 18ms/step\n",
      "1/1 [==============================] - 0s 18ms/step\n",
      "1/1 [==============================] - 0s 18ms/step\n",
      "1/1 [==============================] - 0s 17ms/step\n",
      "1/1 [==============================] - 0s 18ms/step\n",
      "1/1 [==============================] - 0s 17ms/step\n",
      "1/1 [==============================] - 0s 18ms/step\n",
      "1/1 [==============================] - 0s 18ms/step\n",
      "1/1 [==============================] - 0s 17ms/step\n",
      "1/1 [==============================] - 0s 19ms/step\n",
      "1/1 [==============================] - 0s 14ms/step\n",
      "1/1 [==============================] - 0s 18ms/step\n",
      "1/1 [==============================] - 0s 18ms/step\n",
      "1/1 [==============================] - 0s 17ms/step\n",
      "1/1 [==============================] - 0s 17ms/step\n",
      "1/1 [==============================] - 0s 17ms/step\n",
      "1/1 [==============================] - 0s 17ms/step\n",
      "1/1 [==============================] - 0s 10ms/step\n",
      "1/1 [==============================] - 0s 7ms/step\n",
      "1/1 [==============================] - 0s 17ms/step\n",
      "1/1 [==============================] - 0s 18ms/step\n",
      "1/1 [==============================] - 0s 18ms/step\n",
      "1/1 [==============================] - 0s 19ms/step\n",
      "1/1 [==============================] - 0s 17ms/step\n",
      "1/1 [==============================] - 0s 18ms/step\n",
      "1/1 [==============================] - 0s 18ms/step\n",
      "1/1 [==============================] - 0s 16ms/step\n",
      "1/1 [==============================] - 0s 17ms/step\n",
      "1/1 [==============================] - 0s 18ms/step\n",
      "1/1 [==============================] - 0s 18ms/step\n"
     ]
    }
   ],
   "source": [
    "indexx=[]\n",
    "for i in range(300):\n",
    "    y_hat=model.predict(x=X_test[i:(1+i)])\n",
    "    indexx.append(list(y_hat[0]).index(y_hat[0][y_hat[0]==max(y_hat[0])][0]))\n",
    "    "
   ]
  },
  {
   "cell_type": "code",
   "execution_count": 175,
   "id": "299336c9",
   "metadata": {},
   "outputs": [
    {
     "name": "stdout",
     "output_type": "stream",
     "text": [
      "5\n",
      "1\n",
      "9\n",
      "3\n",
      "7\n",
      "9\n",
      "9\n",
      "5\n",
      "5\n",
      "8\n",
      "4\n"
     ]
    }
   ],
   "source": [
    "misc=[]\n",
    "for i in range(300):\n",
    "    if indexx[i] != int(y_test[i:(i+1)]):\n",
    "        misc.append(i)\n",
    "\n",
    "for i in misc:\n",
    "    print(int(y_test[i:(i+1)]))"
   ]
  },
  {
   "cell_type": "markdown",
   "id": "7ae50d05",
   "metadata": {},
   "source": [
    "# CNN MNIST \n",
    "### Downloading MNIST Data -Code reference Hands on ML Book"
   ]
  },
  {
   "cell_type": "code",
   "execution_count": 3,
   "id": "9b8a62d1",
   "metadata": {},
   "outputs": [],
   "source": [
    "def sort_by_target(mnist):\n",
    "    reorder_train = np.array(sorted([(target, i) for i, target in enumerate(mnist.target[:60000])]))[:, 1]\n",
    "    reorder_test = np.array(sorted([(target, i) for i, target in enumerate(mnist.target[60000:])]))[:, 1]\n",
    "    mnist.data[:60000] = mnist.data[reorder_train]\n",
    "    mnist.target[:60000] = mnist.target[reorder_train]\n",
    "    mnist.data[60000:] = mnist.data[reorder_test + 60000]\n",
    "    mnist.target[60000:] = mnist.target[reorder_test + 60000]"
   ]
  },
  {
   "cell_type": "code",
   "execution_count": 4,
   "id": "e551885c",
   "metadata": {},
   "outputs": [
    {
     "data": {
      "text/plain": [
       "(array([[0., 0., 0., ..., 0., 0., 0.],\n",
       "        [0., 0., 0., ..., 0., 0., 0.],\n",
       "        [0., 0., 0., ..., 0., 0., 0.],\n",
       "        ...,\n",
       "        [0., 0., 0., ..., 0., 0., 0.],\n",
       "        [0., 0., 0., ..., 0., 0., 0.],\n",
       "        [0., 0., 0., ..., 0., 0., 0.]]),\n",
       " array([0, 0, 0, ..., 9, 9, 9], dtype=int8))"
      ]
     },
     "execution_count": 4,
     "metadata": {},
     "output_type": "execute_result"
    }
   ],
   "source": [
    "try:\n",
    "    from sklearn.datasets import fetch_openml\n",
    "    mnist = fetch_openml('mnist_784', version=1, cache=True, as_frame=False)\n",
    "    mnist.target = mnist.target.astype(np.int8) # fetch_openml() returns targets as strings\n",
    "    sort_by_target(mnist) # fetch_openml() returns an unsorted dataset\n",
    "except ImportError:\n",
    "    from sklearn.datasets import fetch_mldata\n",
    "    mnist = fetch_mldata('MNIST original')\n",
    "mnist[\"data\"], mnist[\"target\"]"
   ]
  },
  {
   "cell_type": "code",
   "execution_count": 8,
   "id": "f25ccdd8",
   "metadata": {},
   "outputs": [
    {
     "data": {
      "text/plain": [
       "(70000, 784)"
      ]
     },
     "execution_count": 8,
     "metadata": {},
     "output_type": "execute_result"
    }
   ],
   "source": [
    "mnist.data.shape"
   ]
  },
  {
   "cell_type": "code",
   "execution_count": 9,
   "id": "b8c17a59",
   "metadata": {},
   "outputs": [
    {
     "data": {
      "text/plain": [
       "(70000, 784)"
      ]
     },
     "execution_count": 9,
     "metadata": {},
     "output_type": "execute_result"
    }
   ],
   "source": [
    "X, y = mnist[\"data\"], mnist[\"target\"]\n",
    "X.shape"
   ]
  },
  {
   "cell_type": "code",
   "execution_count": 10,
   "id": "186b2d53",
   "metadata": {},
   "outputs": [
    {
     "data": {
      "text/plain": [
       "(70000,)"
      ]
     },
     "execution_count": 10,
     "metadata": {},
     "output_type": "execute_result"
    }
   ],
   "source": [
    "y.shape"
   ]
  },
  {
   "cell_type": "code",
   "execution_count": 10,
   "id": "ce294af6",
   "metadata": {},
   "outputs": [],
   "source": [
    "model = keras.models.Sequential([\n",
    "keras.layers.Conv2D(64, 7, activation=\"relu\", padding=\"same\",\n",
    "input_shape=[28, 28, 1]),\n",
    "keras.layers.MaxPooling2D(2),\n",
    "keras.layers.Conv2D(128, 3, activation=\"relu\", padding=\"same\"),\n",
    "keras.layers.Conv2D(128, 3, activation=\"relu\", padding=\"same\"),\n",
    "keras.layers.MaxPooling2D(2),\n",
    "keras.layers.Conv2D(256, 3, activation=\"relu\", padding=\"same\"),\n",
    "keras.layers.Conv2D(256, 3, activation=\"relu\", padding=\"same\"),\n",
    "keras.layers.MaxPooling2D(2),\n",
    "keras.layers.Flatten(),\n",
    "keras.layers.Dense(128, activation=\"relu\"),\n",
    "keras.layers.Dropout(0.5),\n",
    "keras.layers.Dense(64, activation=\"relu\"),\n",
    "keras.layers.Dropout(0.5),\n",
    "keras.layers.Dense(10, activation=\"softmax\")\n",
    "])\n"
   ]
  },
  {
   "cell_type": "code",
   "execution_count": 11,
   "id": "c662eb43",
   "metadata": {},
   "outputs": [
    {
     "name": "stdout",
     "output_type": "stream",
     "text": [
      "Model: \"sequential\"\n",
      "_________________________________________________________________\n",
      " Layer (type)                Output Shape              Param #   \n",
      "=================================================================\n",
      " conv2d (Conv2D)             (None, 28, 28, 64)        3200      \n",
      "                                                                 \n",
      " max_pooling2d (MaxPooling2D  (None, 14, 14, 64)       0         \n",
      " )                                                               \n",
      "                                                                 \n",
      " conv2d_1 (Conv2D)           (None, 14, 14, 128)       73856     \n",
      "                                                                 \n",
      " conv2d_2 (Conv2D)           (None, 14, 14, 128)       147584    \n",
      "                                                                 \n",
      " max_pooling2d_1 (MaxPooling  (None, 7, 7, 128)        0         \n",
      " 2D)                                                             \n",
      "                                                                 \n",
      " conv2d_3 (Conv2D)           (None, 7, 7, 256)         295168    \n",
      "                                                                 \n",
      " conv2d_4 (Conv2D)           (None, 7, 7, 256)         590080    \n",
      "                                                                 \n",
      " max_pooling2d_2 (MaxPooling  (None, 3, 3, 256)        0         \n",
      " 2D)                                                             \n",
      "                                                                 \n",
      " flatten (Flatten)           (None, 2304)              0         \n",
      "                                                                 \n",
      " dense (Dense)               (None, 128)               295040    \n",
      "                                                                 \n",
      " dropout (Dropout)           (None, 128)               0         \n",
      "                                                                 \n",
      " dense_1 (Dense)             (None, 64)                8256      \n",
      "                                                                 \n",
      " dropout_1 (Dropout)         (None, 64)                0         \n",
      "                                                                 \n",
      " dense_2 (Dense)             (None, 10)                650       \n",
      "                                                                 \n",
      "=================================================================\n",
      "Total params: 1,413,834\n",
      "Trainable params: 1,413,834\n",
      "Non-trainable params: 0\n",
      "_________________________________________________________________\n"
     ]
    }
   ],
   "source": [
    "model.summary()"
   ]
  },
  {
   "cell_type": "code",
   "execution_count": 12,
   "id": "ca46dbd4",
   "metadata": {},
   "outputs": [],
   "source": [
    "k=X[0]"
   ]
  },
  {
   "cell_type": "code",
   "execution_count": 13,
   "id": "5c639611",
   "metadata": {},
   "outputs": [],
   "source": [
    "X = X.reshape((70000,28,28,1))"
   ]
  },
  {
   "cell_type": "code",
   "execution_count": null,
   "id": "c2cba961",
   "metadata": {},
   "outputs": [],
   "source": []
  },
  {
   "cell_type": "code",
   "execution_count": 14,
   "id": "cb6eef49",
   "metadata": {},
   "outputs": [],
   "source": [
    "model.compile(loss='sparse_categorical_crossentropy',\n",
    "              optimizer=tf.keras.optimizers.Adam(learning_rate=0.0002),\n",
    "              metrics='accuracy')"
   ]
  },
  {
   "cell_type": "code",
   "execution_count": 15,
   "id": "1c115d79",
   "metadata": {},
   "outputs": [],
   "source": [
    "#train_test_split"
   ]
  },
  {
   "cell_type": "code",
   "execution_count": 16,
   "id": "95b0994a",
   "metadata": {},
   "outputs": [],
   "source": [
    "X_train, X_test, y_train, y_test = train_test_split(X, y, test_size=0.10)"
   ]
  },
  {
   "cell_type": "code",
   "execution_count": 17,
   "id": "46ce3fea",
   "metadata": {},
   "outputs": [],
   "source": [
    "#train_val_split"
   ]
  },
  {
   "cell_type": "code",
   "execution_count": 18,
   "id": "9e055f82",
   "metadata": {},
   "outputs": [],
   "source": [
    "X_trainn, X_val, y_trainn, y_val = train_test_split(X_train, y_train,\n",
    "                                           test_size=0.1)"
   ]
  },
  {
   "cell_type": "code",
   "execution_count": 19,
   "id": "40efd0f5",
   "metadata": {},
   "outputs": [
    {
     "data": {
      "text/plain": [
       "(56700, 28, 28, 1)"
      ]
     },
     "execution_count": 19,
     "metadata": {},
     "output_type": "execute_result"
    }
   ],
   "source": [
    "X_trainn.shape"
   ]
  },
  {
   "cell_type": "code",
   "execution_count": 20,
   "id": "f8f48de5",
   "metadata": {},
   "outputs": [
    {
     "name": "stdout",
     "output_type": "stream",
     "text": [
      "Epoch 1/10\n",
      "57/57 [==============================] - 287s 5s/step - loss: 2.0322 - accuracy: 0.3323 - val_loss: 0.8227 - val_accuracy: 0.8922\n",
      "Epoch 2/10\n",
      "57/57 [==============================] - 255s 4s/step - loss: 1.1425 - accuracy: 0.6074 - val_loss: 0.3022 - val_accuracy: 0.9594\n",
      "Epoch 3/10\n",
      "57/57 [==============================] - 255s 4s/step - loss: 0.7532 - accuracy: 0.7452 - val_loss: 0.1553 - val_accuracy: 0.9713\n",
      "Epoch 4/10\n",
      "57/57 [==============================] - 260s 5s/step - loss: 0.5582 - accuracy: 0.8134 - val_loss: 0.1001 - val_accuracy: 0.9765\n",
      "Epoch 5/10\n",
      "57/57 [==============================] - 261s 5s/step - loss: 0.4332 - accuracy: 0.8571 - val_loss: 0.0830 - val_accuracy: 0.9795\n",
      "Epoch 6/10\n",
      "57/57 [==============================] - 269s 5s/step - loss: 0.3544 - accuracy: 0.8830 - val_loss: 0.0679 - val_accuracy: 0.9835\n",
      "Epoch 7/10\n",
      "57/57 [==============================] - 265s 5s/step - loss: 0.2873 - accuracy: 0.9069 - val_loss: 0.0663 - val_accuracy: 0.9829\n",
      "Epoch 8/10\n",
      "57/57 [==============================] - 262s 5s/step - loss: 0.2458 - accuracy: 0.9212 - val_loss: 0.0599 - val_accuracy: 0.9848\n",
      "Epoch 9/10\n",
      "57/57 [==============================] - 262s 5s/step - loss: 0.2162 - accuracy: 0.9305 - val_loss: 0.0508 - val_accuracy: 0.9878\n",
      "Epoch 10/10\n",
      "57/57 [==============================] - 292s 5s/step - loss: 0.1863 - accuracy: 0.9415 - val_loss: 0.0517 - val_accuracy: 0.9863\n"
     ]
    }
   ],
   "source": [
    "history = model.fit(X_trainn, y_trainn, epochs=10,\n",
    "                    validation_data=(X_val, y_val), batch_size=1000)"
   ]
  },
  {
   "cell_type": "code",
   "execution_count": 21,
   "id": "8b3139d8",
   "metadata": {},
   "outputs": [
    {
     "name": "stdout",
     "output_type": "stream",
     "text": [
      "219/219 [==============================] - 9s 39ms/step - loss: 0.0457 - accuracy: 0.9889\n"
     ]
    },
    {
     "data": {
      "text/plain": [
       "[0.04568476229906082, 0.9888571500778198]"
      ]
     },
     "execution_count": 21,
     "metadata": {},
     "output_type": "execute_result"
    }
   ],
   "source": [
    "model.evaluate(X_test, y_test)"
   ]
  },
  {
   "cell_type": "code",
   "execution_count": 22,
   "id": "e69c431d",
   "metadata": {},
   "outputs": [
    {
     "data": {
      "image/png": "[encoded data removed]",
      "text/plain": [
       "<Figure size 576x360 with 1 Axes>"
      ]
     },
     "metadata": {
      "needs_background": "light"
     },
     "output_type": "display_data"
    }
   ],
   "source": [
    "pd.DataFrame(history.history).plot(figsize=(8, 5))\n",
    "plt.grid(True)\n",
    "plt.gca().set_ylim(0,2) # set the vertical range to [0-1]\n",
    "plt.show()"
   ]
  },
  {
   "cell_type": "markdown",
   "id": "8a997d90",
   "metadata": {},
   "source": [
    "# CNN with only 2-3 layers"
   ]
  },
  {
   "cell_type": "code",
   "execution_count": 5,
   "id": "de06837a",
   "metadata": {},
   "outputs": [],
   "source": [
    "model = keras.models.Sequential([\n",
    "keras.layers.Conv2D(64, 7, activation=\"relu\", padding=\"same\",\n",
    "input_shape=[28, 28, 1]),\n",
    "keras.layers.MaxPooling2D(2),\n",
    "keras.layers.Conv2D(128, 3, activation=\"relu\", padding=\"same\"),\n",
    "keras.layers.MaxPooling2D(2),\n",
    "keras.layers.Flatten(),\n",
    "keras.layers.Dense(128, activation=\"relu\"),\n",
    "keras.layers.Dropout(0.5),\n",
    "keras.layers.Dense(10, activation=\"softmax\")\n",
    "])\n"
   ]
  },
  {
   "cell_type": "code",
   "execution_count": 6,
   "id": "0e717e1f",
   "metadata": {},
   "outputs": [
    {
     "name": "stdout",
     "output_type": "stream",
     "text": [
      "Model: \"sequential\"\n",
      "_________________________________________________________________\n",
      " Layer (type)                Output Shape              Param #   \n",
      "=================================================================\n",
      " conv2d (Conv2D)             (None, 28, 28, 64)        3200      \n",
      "                                                                 \n",
      " max_pooling2d (MaxPooling2D  (None, 14, 14, 64)       0         \n",
      " )                                                               \n",
      "                                                                 \n",
      " conv2d_1 (Conv2D)           (None, 14, 14, 128)       73856     \n",
      "                                                                 \n",
      " max_pooling2d_1 (MaxPooling  (None, 7, 7, 128)        0         \n",
      " 2D)                                                             \n",
      "                                                                 \n",
      " flatten (Flatten)           (None, 6272)              0         \n",
      "                                                                 \n",
      " dense (Dense)               (None, 128)               802944    \n",
      "                                                                 \n",
      " dropout (Dropout)           (None, 128)               0         \n",
      "                                                                 \n",
      " dense_1 (Dense)             (None, 10)                1290      \n",
      "                                                                 \n",
      "=================================================================\n",
      "Total params: 881,290\n",
      "Trainable params: 881,290\n",
      "Non-trainable params: 0\n",
      "_________________________________________________________________\n"
     ]
    }
   ],
   "source": [
    "model.summary()"
   ]
  },
  {
   "cell_type": "code",
   "execution_count": 11,
   "id": "5659736d",
   "metadata": {},
   "outputs": [],
   "source": [
    "X = X.reshape((70000,28,28,1))"
   ]
  },
  {
   "cell_type": "code",
   "execution_count": 12,
   "id": "26921146",
   "metadata": {},
   "outputs": [],
   "source": [
    "model.compile(loss='sparse_categorical_crossentropy',\n",
    "              optimizer=tf.keras.optimizers.Adam(learning_rate=0.0002),\n",
    "              metrics='accuracy')"
   ]
  },
  {
   "cell_type": "code",
   "execution_count": 13,
   "id": "abf5c34d",
   "metadata": {},
   "outputs": [],
   "source": [
    "#Train_test_split"
   ]
  },
  {
   "cell_type": "code",
   "execution_count": 14,
   "id": "4d9f903f",
   "metadata": {},
   "outputs": [],
   "source": [
    "X_train, X_test, y_train, y_test = train_test_split(X, y, test_size=0.10)"
   ]
  },
  {
   "cell_type": "code",
   "execution_count": 15,
   "id": "9ec7e0eb",
   "metadata": {},
   "outputs": [],
   "source": [
    "#Train_val_split"
   ]
  },
  {
   "cell_type": "code",
   "execution_count": 16,
   "id": "39439a7c",
   "metadata": {},
   "outputs": [],
   "source": [
    "X_trainn, X_val, y_trainn, y_val = train_test_split(X_train, y_train,\n",
    "                                           test_size=0.1)"
   ]
  },
  {
   "cell_type": "code",
   "execution_count": 17,
   "id": "15d44a81",
   "metadata": {},
   "outputs": [
    {
     "name": "stdout",
     "output_type": "stream",
     "text": [
      "Epoch 1/10\n",
      "57/57 [==============================] - 64s 1s/step - loss: 2.9290 - accuracy: 0.5394 - val_loss: 0.3311 - val_accuracy: 0.9057\n",
      "Epoch 2/10\n",
      "57/57 [==============================] - 63s 1s/step - loss: 0.5911 - accuracy: 0.8037 - val_loss: 0.1971 - val_accuracy: 0.9419\n",
      "Epoch 3/10\n",
      "57/57 [==============================] - 63s 1s/step - loss: 0.4153 - accuracy: 0.8646 - val_loss: 0.1456 - val_accuracy: 0.9595\n",
      "Epoch 4/10\n",
      "57/57 [==============================] - 64s 1s/step - loss: 0.3154 - accuracy: 0.9005 - val_loss: 0.1215 - val_accuracy: 0.9638\n",
      "Epoch 5/10\n",
      "57/57 [==============================] - 60s 1s/step - loss: 0.2541 - accuracy: 0.9196 - val_loss: 0.1038 - val_accuracy: 0.9700\n",
      "Epoch 6/10\n",
      "57/57 [==============================] - 64s 1s/step - loss: 0.2180 - accuracy: 0.9321 - val_loss: 0.0981 - val_accuracy: 0.9724\n",
      "Epoch 7/10\n",
      "57/57 [==============================] - 64s 1s/step - loss: 0.1956 - accuracy: 0.9368 - val_loss: 0.0873 - val_accuracy: 0.9740\n",
      "Epoch 8/10\n",
      "57/57 [==============================] - 64s 1s/step - loss: 0.1724 - accuracy: 0.9457 - val_loss: 0.0823 - val_accuracy: 0.9751\n",
      "Epoch 9/10\n",
      "57/57 [==============================] - 64s 1s/step - loss: 0.1543 - accuracy: 0.9507 - val_loss: 0.0751 - val_accuracy: 0.9759\n",
      "Epoch 10/10\n",
      "57/57 [==============================] - 60s 1s/step - loss: 0.1350 - accuracy: 0.9578 - val_loss: 0.0707 - val_accuracy: 0.9795\n"
     ]
    }
   ],
   "source": [
    "history = model.fit(X_trainn, y_trainn, epochs=10,\n",
    "                    validation_data=(X_val, y_val), batch_size=1000)"
   ]
  },
  {
   "cell_type": "code",
   "execution_count": 18,
   "id": "c17271f5",
   "metadata": {},
   "outputs": [
    {
     "name": "stdout",
     "output_type": "stream",
     "text": [
      "219/219 [==============================] - 3s 13ms/step - loss: 0.0665 - accuracy: 0.9820\n"
     ]
    },
    {
     "data": {
      "text/plain": [
       "[0.06646185368299484, 0.9819999933242798]"
      ]
     },
     "execution_count": 18,
     "metadata": {},
     "output_type": "execute_result"
    }
   ],
   "source": [
    "model.evaluate(X_test, y_test)"
   ]
  },
  {
   "cell_type": "code",
   "execution_count": 19,
   "id": "063688b9",
   "metadata": {},
   "outputs": [
    {
     "data": {
      "image/png": "[encoded data removed]",
      "text/plain": [
       "<Figure size 576x360 with 1 Axes>"
      ]
     },
     "metadata": {
      "needs_background": "light"
     },
     "output_type": "display_data"
    }
   ],
   "source": [
    "pd.DataFrame(history.history).plot(figsize=(8, 5))\n",
    "plt.grid(True)\n",
    "plt.gca().set_ylim(0,2) # set the vertical range to [0-1]\n",
    "plt.show()"
   ]
  },
  {
   "cell_type": "code",
   "execution_count": null,
   "id": "60a34a2e",
   "metadata": {},
   "outputs": [],
   "source": []
  }
 ],
 "metadata": {
  "kernelspec": {
   "display_name": "Python 3",
   "language": "python",
   "name": "python3"
  },
  "language_info": {
   "codemirror_mode": {
    "name": "ipython",
    "version": 3
   },
   "file_extension": ".py",
   "mimetype": "text/x-python",
   "name": "python",
   "nbconvert_exporter": "python",
   "pygments_lexer": "ipython3",
   "version": "3.8.8"
  }
 },
 "nbformat": 4,
 "nbformat_minor": 5
}
